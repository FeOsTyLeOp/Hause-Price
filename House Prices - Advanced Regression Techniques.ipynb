{
 "cells": [
  {
   "cell_type": "code",
   "execution_count": 358,
   "metadata": {
    "collapsed": true
   },
   "outputs": [],
   "source": [
    "import numpy as np\n",
    "import pandas as pd\n",
    "import gc\n",
    "from pathlib import Path\n",
    "\n",
    "import matplotlib.pyplot as plt\n",
    "import seaborn as sns\n",
    "\n",
    "from sklearn import model_selection\n",
    "from sklearn.model_selection import train_test_split\n",
    "from sklearn.model_selection import GridSearchCV\n",
    "from sklearn.preprocessing import RobustScaler\n",
    "from sklearn.metrics import mean_squared_error\n",
    "from sklearn.preprocessing import StandardScaler\n",
    "from sklearn.model_selection import cross_val_score\n",
    "from lightgbm import LGBMRegressor\n",
    "from xgboost import XGBRegressor\n",
    "from catboost import CatBoostRegressor\n",
    "from sklearn.ensemble import RandomForestRegressor\n",
    "from sklearn.linear_model import LinearRegression, Lasso, LassoCV, LogisticRegression, SGDRegressor, Ridge\n",
    "from sklearn.svm import SVR\n",
    "from pandas.api.types import CategoricalDtype\n",
    "\n",
    "from IPython.display import display  # Allows the use of display() for DataFrames\n",
    "\n",
    "import warnings\n",
    "\n",
    "warnings.filterwarnings('ignore')"
   ]
  },
  {
   "cell_type": "markdown",
   "source": [
    "# Скачиваем датасэты"
   ],
   "metadata": {
    "collapsed": false
   }
  },
  {
   "cell_type": "code",
   "execution_count": 359,
   "outputs": [],
   "source": [
    "train_df = pd.read_csv('train.csv')\n",
    "test_df = pd.read_csv('test.csv')"
   ],
   "metadata": {
    "collapsed": false
   }
  },
  {
   "cell_type": "code",
   "execution_count": 360,
   "outputs": [
    {
     "data": {
      "text/plain": "        Id  MSSubClass MSZoning  LotFrontage  LotArea Street Alley LotShape  \\\n0     1461          20       RH         80.0    11622   Pave   NaN      Reg   \n1     1462          20       RL         81.0    14267   Pave   NaN      IR1   \n2     1463          60       RL         74.0    13830   Pave   NaN      IR1   \n3     1464          60       RL         78.0     9978   Pave   NaN      IR1   \n4     1465         120       RL         43.0     5005   Pave   NaN      IR1   \n...    ...         ...      ...          ...      ...    ...   ...      ...   \n1454  2915         160       RM         21.0     1936   Pave   NaN      Reg   \n1455  2916         160       RM         21.0     1894   Pave   NaN      Reg   \n1456  2917          20       RL        160.0    20000   Pave   NaN      Reg   \n1457  2918          85       RL         62.0    10441   Pave   NaN      Reg   \n1458  2919          60       RL         74.0     9627   Pave   NaN      Reg   \n\n     LandContour Utilities  ... ScreenPorch PoolArea PoolQC  Fence  \\\n0            Lvl    AllPub  ...         120        0    NaN  MnPrv   \n1            Lvl    AllPub  ...           0        0    NaN    NaN   \n2            Lvl    AllPub  ...           0        0    NaN  MnPrv   \n3            Lvl    AllPub  ...           0        0    NaN    NaN   \n4            HLS    AllPub  ...         144        0    NaN    NaN   \n...          ...       ...  ...         ...      ...    ...    ...   \n1454         Lvl    AllPub  ...           0        0    NaN    NaN   \n1455         Lvl    AllPub  ...           0        0    NaN    NaN   \n1456         Lvl    AllPub  ...           0        0    NaN    NaN   \n1457         Lvl    AllPub  ...           0        0    NaN  MnPrv   \n1458         Lvl    AllPub  ...           0        0    NaN    NaN   \n\n     MiscFeature MiscVal MoSold  YrSold  SaleType  SaleCondition  \n0            NaN       0      6    2010        WD         Normal  \n1           Gar2   12500      6    2010        WD         Normal  \n2            NaN       0      3    2010        WD         Normal  \n3            NaN       0      6    2010        WD         Normal  \n4            NaN       0      1    2010        WD         Normal  \n...          ...     ...    ...     ...       ...            ...  \n1454         NaN       0      6    2006        WD         Normal  \n1455         NaN       0      4    2006        WD        Abnorml  \n1456         NaN       0      9    2006        WD        Abnorml  \n1457        Shed     700      7    2006        WD         Normal  \n1458         NaN       0     11    2006        WD         Normal  \n\n[1459 rows x 80 columns]",
      "text/html": "<div>\n<style scoped>\n    .dataframe tbody tr th:only-of-type {\n        vertical-align: middle;\n    }\n\n    .dataframe tbody tr th {\n        vertical-align: top;\n    }\n\n    .dataframe thead th {\n        text-align: right;\n    }\n</style>\n<table border=\"1\" class=\"dataframe\">\n  <thead>\n    <tr style=\"text-align: right;\">\n      <th></th>\n      <th>Id</th>\n      <th>MSSubClass</th>\n      <th>MSZoning</th>\n      <th>LotFrontage</th>\n      <th>LotArea</th>\n      <th>Street</th>\n      <th>Alley</th>\n      <th>LotShape</th>\n      <th>LandContour</th>\n      <th>Utilities</th>\n      <th>...</th>\n      <th>ScreenPorch</th>\n      <th>PoolArea</th>\n      <th>PoolQC</th>\n      <th>Fence</th>\n      <th>MiscFeature</th>\n      <th>MiscVal</th>\n      <th>MoSold</th>\n      <th>YrSold</th>\n      <th>SaleType</th>\n      <th>SaleCondition</th>\n    </tr>\n  </thead>\n  <tbody>\n    <tr>\n      <th>0</th>\n      <td>1461</td>\n      <td>20</td>\n      <td>RH</td>\n      <td>80.0</td>\n      <td>11622</td>\n      <td>Pave</td>\n      <td>NaN</td>\n      <td>Reg</td>\n      <td>Lvl</td>\n      <td>AllPub</td>\n      <td>...</td>\n      <td>120</td>\n      <td>0</td>\n      <td>NaN</td>\n      <td>MnPrv</td>\n      <td>NaN</td>\n      <td>0</td>\n      <td>6</td>\n      <td>2010</td>\n      <td>WD</td>\n      <td>Normal</td>\n    </tr>\n    <tr>\n      <th>1</th>\n      <td>1462</td>\n      <td>20</td>\n      <td>RL</td>\n      <td>81.0</td>\n      <td>14267</td>\n      <td>Pave</td>\n      <td>NaN</td>\n      <td>IR1</td>\n      <td>Lvl</td>\n      <td>AllPub</td>\n      <td>...</td>\n      <td>0</td>\n      <td>0</td>\n      <td>NaN</td>\n      <td>NaN</td>\n      <td>Gar2</td>\n      <td>12500</td>\n      <td>6</td>\n      <td>2010</td>\n      <td>WD</td>\n      <td>Normal</td>\n    </tr>\n    <tr>\n      <th>2</th>\n      <td>1463</td>\n      <td>60</td>\n      <td>RL</td>\n      <td>74.0</td>\n      <td>13830</td>\n      <td>Pave</td>\n      <td>NaN</td>\n      <td>IR1</td>\n      <td>Lvl</td>\n      <td>AllPub</td>\n      <td>...</td>\n      <td>0</td>\n      <td>0</td>\n      <td>NaN</td>\n      <td>MnPrv</td>\n      <td>NaN</td>\n      <td>0</td>\n      <td>3</td>\n      <td>2010</td>\n      <td>WD</td>\n      <td>Normal</td>\n    </tr>\n    <tr>\n      <th>3</th>\n      <td>1464</td>\n      <td>60</td>\n      <td>RL</td>\n      <td>78.0</td>\n      <td>9978</td>\n      <td>Pave</td>\n      <td>NaN</td>\n      <td>IR1</td>\n      <td>Lvl</td>\n      <td>AllPub</td>\n      <td>...</td>\n      <td>0</td>\n      <td>0</td>\n      <td>NaN</td>\n      <td>NaN</td>\n      <td>NaN</td>\n      <td>0</td>\n      <td>6</td>\n      <td>2010</td>\n      <td>WD</td>\n      <td>Normal</td>\n    </tr>\n    <tr>\n      <th>4</th>\n      <td>1465</td>\n      <td>120</td>\n      <td>RL</td>\n      <td>43.0</td>\n      <td>5005</td>\n      <td>Pave</td>\n      <td>NaN</td>\n      <td>IR1</td>\n      <td>HLS</td>\n      <td>AllPub</td>\n      <td>...</td>\n      <td>144</td>\n      <td>0</td>\n      <td>NaN</td>\n      <td>NaN</td>\n      <td>NaN</td>\n      <td>0</td>\n      <td>1</td>\n      <td>2010</td>\n      <td>WD</td>\n      <td>Normal</td>\n    </tr>\n    <tr>\n      <th>...</th>\n      <td>...</td>\n      <td>...</td>\n      <td>...</td>\n      <td>...</td>\n      <td>...</td>\n      <td>...</td>\n      <td>...</td>\n      <td>...</td>\n      <td>...</td>\n      <td>...</td>\n      <td>...</td>\n      <td>...</td>\n      <td>...</td>\n      <td>...</td>\n      <td>...</td>\n      <td>...</td>\n      <td>...</td>\n      <td>...</td>\n      <td>...</td>\n      <td>...</td>\n      <td>...</td>\n    </tr>\n    <tr>\n      <th>1454</th>\n      <td>2915</td>\n      <td>160</td>\n      <td>RM</td>\n      <td>21.0</td>\n      <td>1936</td>\n      <td>Pave</td>\n      <td>NaN</td>\n      <td>Reg</td>\n      <td>Lvl</td>\n      <td>AllPub</td>\n      <td>...</td>\n      <td>0</td>\n      <td>0</td>\n      <td>NaN</td>\n      <td>NaN</td>\n      <td>NaN</td>\n      <td>0</td>\n      <td>6</td>\n      <td>2006</td>\n      <td>WD</td>\n      <td>Normal</td>\n    </tr>\n    <tr>\n      <th>1455</th>\n      <td>2916</td>\n      <td>160</td>\n      <td>RM</td>\n      <td>21.0</td>\n      <td>1894</td>\n      <td>Pave</td>\n      <td>NaN</td>\n      <td>Reg</td>\n      <td>Lvl</td>\n      <td>AllPub</td>\n      <td>...</td>\n      <td>0</td>\n      <td>0</td>\n      <td>NaN</td>\n      <td>NaN</td>\n      <td>NaN</td>\n      <td>0</td>\n      <td>4</td>\n      <td>2006</td>\n      <td>WD</td>\n      <td>Abnorml</td>\n    </tr>\n    <tr>\n      <th>1456</th>\n      <td>2917</td>\n      <td>20</td>\n      <td>RL</td>\n      <td>160.0</td>\n      <td>20000</td>\n      <td>Pave</td>\n      <td>NaN</td>\n      <td>Reg</td>\n      <td>Lvl</td>\n      <td>AllPub</td>\n      <td>...</td>\n      <td>0</td>\n      <td>0</td>\n      <td>NaN</td>\n      <td>NaN</td>\n      <td>NaN</td>\n      <td>0</td>\n      <td>9</td>\n      <td>2006</td>\n      <td>WD</td>\n      <td>Abnorml</td>\n    </tr>\n    <tr>\n      <th>1457</th>\n      <td>2918</td>\n      <td>85</td>\n      <td>RL</td>\n      <td>62.0</td>\n      <td>10441</td>\n      <td>Pave</td>\n      <td>NaN</td>\n      <td>Reg</td>\n      <td>Lvl</td>\n      <td>AllPub</td>\n      <td>...</td>\n      <td>0</td>\n      <td>0</td>\n      <td>NaN</td>\n      <td>MnPrv</td>\n      <td>Shed</td>\n      <td>700</td>\n      <td>7</td>\n      <td>2006</td>\n      <td>WD</td>\n      <td>Normal</td>\n    </tr>\n    <tr>\n      <th>1458</th>\n      <td>2919</td>\n      <td>60</td>\n      <td>RL</td>\n      <td>74.0</td>\n      <td>9627</td>\n      <td>Pave</td>\n      <td>NaN</td>\n      <td>Reg</td>\n      <td>Lvl</td>\n      <td>AllPub</td>\n      <td>...</td>\n      <td>0</td>\n      <td>0</td>\n      <td>NaN</td>\n      <td>NaN</td>\n      <td>NaN</td>\n      <td>0</td>\n      <td>11</td>\n      <td>2006</td>\n      <td>WD</td>\n      <td>Normal</td>\n    </tr>\n  </tbody>\n</table>\n<p>1459 rows × 80 columns</p>\n</div>"
     },
     "execution_count": 360,
     "metadata": {},
     "output_type": "execute_result"
    }
   ],
   "source": [
    "test_df"
   ],
   "metadata": {
    "collapsed": false
   }
  },
  {
   "cell_type": "code",
   "execution_count": 361,
   "outputs": [
    {
     "name": "stdout",
     "output_type": "stream",
     "text": [
      "<class 'pandas.core.frame.DataFrame'>\n",
      "RangeIndex: 1460 entries, 0 to 1459\n",
      "Data columns (total 81 columns):\n",
      " #   Column         Non-Null Count  Dtype  \n",
      "---  ------         --------------  -----  \n",
      " 0   Id             1460 non-null   int64  \n",
      " 1   MSSubClass     1460 non-null   int64  \n",
      " 2   MSZoning       1460 non-null   object \n",
      " 3   LotFrontage    1201 non-null   float64\n",
      " 4   LotArea        1460 non-null   int64  \n",
      " 5   Street         1460 non-null   object \n",
      " 6   Alley          91 non-null     object \n",
      " 7   LotShape       1460 non-null   object \n",
      " 8   LandContour    1460 non-null   object \n",
      " 9   Utilities      1460 non-null   object \n",
      " 10  LotConfig      1460 non-null   object \n",
      " 11  LandSlope      1460 non-null   object \n",
      " 12  Neighborhood   1460 non-null   object \n",
      " 13  Condition1     1460 non-null   object \n",
      " 14  Condition2     1460 non-null   object \n",
      " 15  BldgType       1460 non-null   object \n",
      " 16  HouseStyle     1460 non-null   object \n",
      " 17  OverallQual    1460 non-null   int64  \n",
      " 18  OverallCond    1460 non-null   int64  \n",
      " 19  YearBuilt      1460 non-null   int64  \n",
      " 20  YearRemodAdd   1460 non-null   int64  \n",
      " 21  RoofStyle      1460 non-null   object \n",
      " 22  RoofMatl       1460 non-null   object \n",
      " 23  Exterior1st    1460 non-null   object \n",
      " 24  Exterior2nd    1460 non-null   object \n",
      " 25  MasVnrType     1452 non-null   object \n",
      " 26  MasVnrArea     1452 non-null   float64\n",
      " 27  ExterQual      1460 non-null   object \n",
      " 28  ExterCond      1460 non-null   object \n",
      " 29  Foundation     1460 non-null   object \n",
      " 30  BsmtQual       1423 non-null   object \n",
      " 31  BsmtCond       1423 non-null   object \n",
      " 32  BsmtExposure   1422 non-null   object \n",
      " 33  BsmtFinType1   1423 non-null   object \n",
      " 34  BsmtFinSF1     1460 non-null   int64  \n",
      " 35  BsmtFinType2   1422 non-null   object \n",
      " 36  BsmtFinSF2     1460 non-null   int64  \n",
      " 37  BsmtUnfSF      1460 non-null   int64  \n",
      " 38  TotalBsmtSF    1460 non-null   int64  \n",
      " 39  Heating        1460 non-null   object \n",
      " 40  HeatingQC      1460 non-null   object \n",
      " 41  CentralAir     1460 non-null   object \n",
      " 42  Electrical     1459 non-null   object \n",
      " 43  1stFlrSF       1460 non-null   int64  \n",
      " 44  2ndFlrSF       1460 non-null   int64  \n",
      " 45  LowQualFinSF   1460 non-null   int64  \n",
      " 46  GrLivArea      1460 non-null   int64  \n",
      " 47  BsmtFullBath   1460 non-null   int64  \n",
      " 48  BsmtHalfBath   1460 non-null   int64  \n",
      " 49  FullBath       1460 non-null   int64  \n",
      " 50  HalfBath       1460 non-null   int64  \n",
      " 51  BedroomAbvGr   1460 non-null   int64  \n",
      " 52  KitchenAbvGr   1460 non-null   int64  \n",
      " 53  KitchenQual    1460 non-null   object \n",
      " 54  TotRmsAbvGrd   1460 non-null   int64  \n",
      " 55  Functional     1460 non-null   object \n",
      " 56  Fireplaces     1460 non-null   int64  \n",
      " 57  FireplaceQu    770 non-null    object \n",
      " 58  GarageType     1379 non-null   object \n",
      " 59  GarageYrBlt    1379 non-null   float64\n",
      " 60  GarageFinish   1379 non-null   object \n",
      " 61  GarageCars     1460 non-null   int64  \n",
      " 62  GarageArea     1460 non-null   int64  \n",
      " 63  GarageQual     1379 non-null   object \n",
      " 64  GarageCond     1379 non-null   object \n",
      " 65  PavedDrive     1460 non-null   object \n",
      " 66  WoodDeckSF     1460 non-null   int64  \n",
      " 67  OpenPorchSF    1460 non-null   int64  \n",
      " 68  EnclosedPorch  1460 non-null   int64  \n",
      " 69  3SsnPorch      1460 non-null   int64  \n",
      " 70  ScreenPorch    1460 non-null   int64  \n",
      " 71  PoolArea       1460 non-null   int64  \n",
      " 72  PoolQC         7 non-null      object \n",
      " 73  Fence          281 non-null    object \n",
      " 74  MiscFeature    54 non-null     object \n",
      " 75  MiscVal        1460 non-null   int64  \n",
      " 76  MoSold         1460 non-null   int64  \n",
      " 77  YrSold         1460 non-null   int64  \n",
      " 78  SaleType       1460 non-null   object \n",
      " 79  SaleCondition  1460 non-null   object \n",
      " 80  SalePrice      1460 non-null   int64  \n",
      "dtypes: float64(3), int64(35), object(43)\n",
      "memory usage: 924.0+ KB\n"
     ]
    }
   ],
   "source": [
    "train_df.info()"
   ],
   "metadata": {
    "collapsed": false
   }
  },
  {
   "cell_type": "code",
   "execution_count": 362,
   "outputs": [
    {
     "data": {
      "text/plain": "        Id  MSSubClass MSZoning  LotFrontage  LotArea Street Alley LotShape  \\\n0     1461          20       RH         80.0    11622   Pave   NaN      Reg   \n1     1462          20       RL         81.0    14267   Pave   NaN      IR1   \n2     1463          60       RL         74.0    13830   Pave   NaN      IR1   \n3     1464          60       RL         78.0     9978   Pave   NaN      IR1   \n4     1465         120       RL         43.0     5005   Pave   NaN      IR1   \n...    ...         ...      ...          ...      ...    ...   ...      ...   \n1454  2915         160       RM         21.0     1936   Pave   NaN      Reg   \n1455  2916         160       RM         21.0     1894   Pave   NaN      Reg   \n1456  2917          20       RL        160.0    20000   Pave   NaN      Reg   \n1457  2918          85       RL         62.0    10441   Pave   NaN      Reg   \n1458  2919          60       RL         74.0     9627   Pave   NaN      Reg   \n\n     LandContour Utilities  ... ScreenPorch PoolArea PoolQC  Fence  \\\n0            Lvl    AllPub  ...         120        0    NaN  MnPrv   \n1            Lvl    AllPub  ...           0        0    NaN    NaN   \n2            Lvl    AllPub  ...           0        0    NaN  MnPrv   \n3            Lvl    AllPub  ...           0        0    NaN    NaN   \n4            HLS    AllPub  ...         144        0    NaN    NaN   \n...          ...       ...  ...         ...      ...    ...    ...   \n1454         Lvl    AllPub  ...           0        0    NaN    NaN   \n1455         Lvl    AllPub  ...           0        0    NaN    NaN   \n1456         Lvl    AllPub  ...           0        0    NaN    NaN   \n1457         Lvl    AllPub  ...           0        0    NaN  MnPrv   \n1458         Lvl    AllPub  ...           0        0    NaN    NaN   \n\n     MiscFeature MiscVal MoSold  YrSold  SaleType  SaleCondition  \n0            NaN       0      6    2010        WD         Normal  \n1           Gar2   12500      6    2010        WD         Normal  \n2            NaN       0      3    2010        WD         Normal  \n3            NaN       0      6    2010        WD         Normal  \n4            NaN       0      1    2010        WD         Normal  \n...          ...     ...    ...     ...       ...            ...  \n1454         NaN       0      6    2006        WD         Normal  \n1455         NaN       0      4    2006        WD        Abnorml  \n1456         NaN       0      9    2006        WD        Abnorml  \n1457        Shed     700      7    2006        WD         Normal  \n1458         NaN       0     11    2006        WD         Normal  \n\n[1459 rows x 80 columns]",
      "text/html": "<div>\n<style scoped>\n    .dataframe tbody tr th:only-of-type {\n        vertical-align: middle;\n    }\n\n    .dataframe tbody tr th {\n        vertical-align: top;\n    }\n\n    .dataframe thead th {\n        text-align: right;\n    }\n</style>\n<table border=\"1\" class=\"dataframe\">\n  <thead>\n    <tr style=\"text-align: right;\">\n      <th></th>\n      <th>Id</th>\n      <th>MSSubClass</th>\n      <th>MSZoning</th>\n      <th>LotFrontage</th>\n      <th>LotArea</th>\n      <th>Street</th>\n      <th>Alley</th>\n      <th>LotShape</th>\n      <th>LandContour</th>\n      <th>Utilities</th>\n      <th>...</th>\n      <th>ScreenPorch</th>\n      <th>PoolArea</th>\n      <th>PoolQC</th>\n      <th>Fence</th>\n      <th>MiscFeature</th>\n      <th>MiscVal</th>\n      <th>MoSold</th>\n      <th>YrSold</th>\n      <th>SaleType</th>\n      <th>SaleCondition</th>\n    </tr>\n  </thead>\n  <tbody>\n    <tr>\n      <th>0</th>\n      <td>1461</td>\n      <td>20</td>\n      <td>RH</td>\n      <td>80.0</td>\n      <td>11622</td>\n      <td>Pave</td>\n      <td>NaN</td>\n      <td>Reg</td>\n      <td>Lvl</td>\n      <td>AllPub</td>\n      <td>...</td>\n      <td>120</td>\n      <td>0</td>\n      <td>NaN</td>\n      <td>MnPrv</td>\n      <td>NaN</td>\n      <td>0</td>\n      <td>6</td>\n      <td>2010</td>\n      <td>WD</td>\n      <td>Normal</td>\n    </tr>\n    <tr>\n      <th>1</th>\n      <td>1462</td>\n      <td>20</td>\n      <td>RL</td>\n      <td>81.0</td>\n      <td>14267</td>\n      <td>Pave</td>\n      <td>NaN</td>\n      <td>IR1</td>\n      <td>Lvl</td>\n      <td>AllPub</td>\n      <td>...</td>\n      <td>0</td>\n      <td>0</td>\n      <td>NaN</td>\n      <td>NaN</td>\n      <td>Gar2</td>\n      <td>12500</td>\n      <td>6</td>\n      <td>2010</td>\n      <td>WD</td>\n      <td>Normal</td>\n    </tr>\n    <tr>\n      <th>2</th>\n      <td>1463</td>\n      <td>60</td>\n      <td>RL</td>\n      <td>74.0</td>\n      <td>13830</td>\n      <td>Pave</td>\n      <td>NaN</td>\n      <td>IR1</td>\n      <td>Lvl</td>\n      <td>AllPub</td>\n      <td>...</td>\n      <td>0</td>\n      <td>0</td>\n      <td>NaN</td>\n      <td>MnPrv</td>\n      <td>NaN</td>\n      <td>0</td>\n      <td>3</td>\n      <td>2010</td>\n      <td>WD</td>\n      <td>Normal</td>\n    </tr>\n    <tr>\n      <th>3</th>\n      <td>1464</td>\n      <td>60</td>\n      <td>RL</td>\n      <td>78.0</td>\n      <td>9978</td>\n      <td>Pave</td>\n      <td>NaN</td>\n      <td>IR1</td>\n      <td>Lvl</td>\n      <td>AllPub</td>\n      <td>...</td>\n      <td>0</td>\n      <td>0</td>\n      <td>NaN</td>\n      <td>NaN</td>\n      <td>NaN</td>\n      <td>0</td>\n      <td>6</td>\n      <td>2010</td>\n      <td>WD</td>\n      <td>Normal</td>\n    </tr>\n    <tr>\n      <th>4</th>\n      <td>1465</td>\n      <td>120</td>\n      <td>RL</td>\n      <td>43.0</td>\n      <td>5005</td>\n      <td>Pave</td>\n      <td>NaN</td>\n      <td>IR1</td>\n      <td>HLS</td>\n      <td>AllPub</td>\n      <td>...</td>\n      <td>144</td>\n      <td>0</td>\n      <td>NaN</td>\n      <td>NaN</td>\n      <td>NaN</td>\n      <td>0</td>\n      <td>1</td>\n      <td>2010</td>\n      <td>WD</td>\n      <td>Normal</td>\n    </tr>\n    <tr>\n      <th>...</th>\n      <td>...</td>\n      <td>...</td>\n      <td>...</td>\n      <td>...</td>\n      <td>...</td>\n      <td>...</td>\n      <td>...</td>\n      <td>...</td>\n      <td>...</td>\n      <td>...</td>\n      <td>...</td>\n      <td>...</td>\n      <td>...</td>\n      <td>...</td>\n      <td>...</td>\n      <td>...</td>\n      <td>...</td>\n      <td>...</td>\n      <td>...</td>\n      <td>...</td>\n      <td>...</td>\n    </tr>\n    <tr>\n      <th>1454</th>\n      <td>2915</td>\n      <td>160</td>\n      <td>RM</td>\n      <td>21.0</td>\n      <td>1936</td>\n      <td>Pave</td>\n      <td>NaN</td>\n      <td>Reg</td>\n      <td>Lvl</td>\n      <td>AllPub</td>\n      <td>...</td>\n      <td>0</td>\n      <td>0</td>\n      <td>NaN</td>\n      <td>NaN</td>\n      <td>NaN</td>\n      <td>0</td>\n      <td>6</td>\n      <td>2006</td>\n      <td>WD</td>\n      <td>Normal</td>\n    </tr>\n    <tr>\n      <th>1455</th>\n      <td>2916</td>\n      <td>160</td>\n      <td>RM</td>\n      <td>21.0</td>\n      <td>1894</td>\n      <td>Pave</td>\n      <td>NaN</td>\n      <td>Reg</td>\n      <td>Lvl</td>\n      <td>AllPub</td>\n      <td>...</td>\n      <td>0</td>\n      <td>0</td>\n      <td>NaN</td>\n      <td>NaN</td>\n      <td>NaN</td>\n      <td>0</td>\n      <td>4</td>\n      <td>2006</td>\n      <td>WD</td>\n      <td>Abnorml</td>\n    </tr>\n    <tr>\n      <th>1456</th>\n      <td>2917</td>\n      <td>20</td>\n      <td>RL</td>\n      <td>160.0</td>\n      <td>20000</td>\n      <td>Pave</td>\n      <td>NaN</td>\n      <td>Reg</td>\n      <td>Lvl</td>\n      <td>AllPub</td>\n      <td>...</td>\n      <td>0</td>\n      <td>0</td>\n      <td>NaN</td>\n      <td>NaN</td>\n      <td>NaN</td>\n      <td>0</td>\n      <td>9</td>\n      <td>2006</td>\n      <td>WD</td>\n      <td>Abnorml</td>\n    </tr>\n    <tr>\n      <th>1457</th>\n      <td>2918</td>\n      <td>85</td>\n      <td>RL</td>\n      <td>62.0</td>\n      <td>10441</td>\n      <td>Pave</td>\n      <td>NaN</td>\n      <td>Reg</td>\n      <td>Lvl</td>\n      <td>AllPub</td>\n      <td>...</td>\n      <td>0</td>\n      <td>0</td>\n      <td>NaN</td>\n      <td>MnPrv</td>\n      <td>Shed</td>\n      <td>700</td>\n      <td>7</td>\n      <td>2006</td>\n      <td>WD</td>\n      <td>Normal</td>\n    </tr>\n    <tr>\n      <th>1458</th>\n      <td>2919</td>\n      <td>60</td>\n      <td>RL</td>\n      <td>74.0</td>\n      <td>9627</td>\n      <td>Pave</td>\n      <td>NaN</td>\n      <td>Reg</td>\n      <td>Lvl</td>\n      <td>AllPub</td>\n      <td>...</td>\n      <td>0</td>\n      <td>0</td>\n      <td>NaN</td>\n      <td>NaN</td>\n      <td>NaN</td>\n      <td>0</td>\n      <td>11</td>\n      <td>2006</td>\n      <td>WD</td>\n      <td>Normal</td>\n    </tr>\n  </tbody>\n</table>\n<p>1459 rows × 80 columns</p>\n</div>"
     },
     "execution_count": 362,
     "metadata": {},
     "output_type": "execute_result"
    }
   ],
   "source": [
    "test_df"
   ],
   "metadata": {
    "collapsed": false
   }
  },
  {
   "cell_type": "markdown",
   "source": [
    "# EDA"
   ],
   "metadata": {
    "collapsed": false
   }
  },
  {
   "cell_type": "markdown",
   "source": [
    "##  Проверяем полноту данных (фитчи) и чистим датасет"
   ],
   "metadata": {
    "collapsed": false
   }
  },
  {
   "cell_type": "code",
   "execution_count": 363,
   "outputs": [
    {
     "data": {
      "text/plain": "Id                 0\nMSSubClass         0\nMSZoning           0\nLotFrontage      259\nLotArea            0\n                ... \nMoSold             0\nYrSold             0\nSaleType           0\nSaleCondition      0\nSalePrice          0\nLength: 81, dtype: int64"
     },
     "execution_count": 363,
     "metadata": {},
     "output_type": "execute_result"
    }
   ],
   "source": [
    "train_df.isnull().sum()"
   ],
   "metadata": {
    "collapsed": false
   }
  },
  {
   "cell_type": "code",
   "execution_count": 364,
   "outputs": [
    {
     "data": {
      "text/plain": "        Id  MSSubClass MSZoning  LotFrontage  LotArea Street Alley LotShape  \\\n0        1          60       RL         65.0     8450   Pave   NaN      Reg   \n1        2          20       RL         80.0     9600   Pave   NaN      Reg   \n2        3          60       RL         68.0    11250   Pave   NaN      IR1   \n3        4          70       RL         60.0     9550   Pave   NaN      IR1   \n4        5          60       RL         84.0    14260   Pave   NaN      IR1   \n...    ...         ...      ...          ...      ...    ...   ...      ...   \n1455  1456          60       RL         62.0     7917   Pave   NaN      Reg   \n1456  1457          20       RL         85.0    13175   Pave   NaN      Reg   \n1457  1458          70       RL         66.0     9042   Pave   NaN      Reg   \n1458  1459          20       RL         68.0     9717   Pave   NaN      Reg   \n1459  1460          20       RL         75.0     9937   Pave   NaN      Reg   \n\n     LandContour Utilities  ... PoolArea PoolQC  Fence MiscFeature MiscVal  \\\n0            Lvl    AllPub  ...        0    NaN    NaN         NaN       0   \n1            Lvl    AllPub  ...        0    NaN    NaN         NaN       0   \n2            Lvl    AllPub  ...        0    NaN    NaN         NaN       0   \n3            Lvl    AllPub  ...        0    NaN    NaN         NaN       0   \n4            Lvl    AllPub  ...        0    NaN    NaN         NaN       0   \n...          ...       ...  ...      ...    ...    ...         ...     ...   \n1455         Lvl    AllPub  ...        0    NaN    NaN         NaN       0   \n1456         Lvl    AllPub  ...        0    NaN  MnPrv         NaN       0   \n1457         Lvl    AllPub  ...        0    NaN  GdPrv        Shed    2500   \n1458         Lvl    AllPub  ...        0    NaN    NaN         NaN       0   \n1459         Lvl    AllPub  ...        0    NaN    NaN         NaN       0   \n\n     MoSold YrSold  SaleType  SaleCondition  SalePrice  \n0         2   2008        WD         Normal     208500  \n1         5   2007        WD         Normal     181500  \n2         9   2008        WD         Normal     223500  \n3         2   2006        WD        Abnorml     140000  \n4        12   2008        WD         Normal     250000  \n...     ...    ...       ...            ...        ...  \n1455      8   2007        WD         Normal     175000  \n1456      2   2010        WD         Normal     210000  \n1457      5   2010        WD         Normal     266500  \n1458      4   2010        WD         Normal     142125  \n1459      6   2008        WD         Normal     147500  \n\n[1460 rows x 81 columns]",
      "text/html": "<div>\n<style scoped>\n    .dataframe tbody tr th:only-of-type {\n        vertical-align: middle;\n    }\n\n    .dataframe tbody tr th {\n        vertical-align: top;\n    }\n\n    .dataframe thead th {\n        text-align: right;\n    }\n</style>\n<table border=\"1\" class=\"dataframe\">\n  <thead>\n    <tr style=\"text-align: right;\">\n      <th></th>\n      <th>Id</th>\n      <th>MSSubClass</th>\n      <th>MSZoning</th>\n      <th>LotFrontage</th>\n      <th>LotArea</th>\n      <th>Street</th>\n      <th>Alley</th>\n      <th>LotShape</th>\n      <th>LandContour</th>\n      <th>Utilities</th>\n      <th>...</th>\n      <th>PoolArea</th>\n      <th>PoolQC</th>\n      <th>Fence</th>\n      <th>MiscFeature</th>\n      <th>MiscVal</th>\n      <th>MoSold</th>\n      <th>YrSold</th>\n      <th>SaleType</th>\n      <th>SaleCondition</th>\n      <th>SalePrice</th>\n    </tr>\n  </thead>\n  <tbody>\n    <tr>\n      <th>0</th>\n      <td>1</td>\n      <td>60</td>\n      <td>RL</td>\n      <td>65.0</td>\n      <td>8450</td>\n      <td>Pave</td>\n      <td>NaN</td>\n      <td>Reg</td>\n      <td>Lvl</td>\n      <td>AllPub</td>\n      <td>...</td>\n      <td>0</td>\n      <td>NaN</td>\n      <td>NaN</td>\n      <td>NaN</td>\n      <td>0</td>\n      <td>2</td>\n      <td>2008</td>\n      <td>WD</td>\n      <td>Normal</td>\n      <td>208500</td>\n    </tr>\n    <tr>\n      <th>1</th>\n      <td>2</td>\n      <td>20</td>\n      <td>RL</td>\n      <td>80.0</td>\n      <td>9600</td>\n      <td>Pave</td>\n      <td>NaN</td>\n      <td>Reg</td>\n      <td>Lvl</td>\n      <td>AllPub</td>\n      <td>...</td>\n      <td>0</td>\n      <td>NaN</td>\n      <td>NaN</td>\n      <td>NaN</td>\n      <td>0</td>\n      <td>5</td>\n      <td>2007</td>\n      <td>WD</td>\n      <td>Normal</td>\n      <td>181500</td>\n    </tr>\n    <tr>\n      <th>2</th>\n      <td>3</td>\n      <td>60</td>\n      <td>RL</td>\n      <td>68.0</td>\n      <td>11250</td>\n      <td>Pave</td>\n      <td>NaN</td>\n      <td>IR1</td>\n      <td>Lvl</td>\n      <td>AllPub</td>\n      <td>...</td>\n      <td>0</td>\n      <td>NaN</td>\n      <td>NaN</td>\n      <td>NaN</td>\n      <td>0</td>\n      <td>9</td>\n      <td>2008</td>\n      <td>WD</td>\n      <td>Normal</td>\n      <td>223500</td>\n    </tr>\n    <tr>\n      <th>3</th>\n      <td>4</td>\n      <td>70</td>\n      <td>RL</td>\n      <td>60.0</td>\n      <td>9550</td>\n      <td>Pave</td>\n      <td>NaN</td>\n      <td>IR1</td>\n      <td>Lvl</td>\n      <td>AllPub</td>\n      <td>...</td>\n      <td>0</td>\n      <td>NaN</td>\n      <td>NaN</td>\n      <td>NaN</td>\n      <td>0</td>\n      <td>2</td>\n      <td>2006</td>\n      <td>WD</td>\n      <td>Abnorml</td>\n      <td>140000</td>\n    </tr>\n    <tr>\n      <th>4</th>\n      <td>5</td>\n      <td>60</td>\n      <td>RL</td>\n      <td>84.0</td>\n      <td>14260</td>\n      <td>Pave</td>\n      <td>NaN</td>\n      <td>IR1</td>\n      <td>Lvl</td>\n      <td>AllPub</td>\n      <td>...</td>\n      <td>0</td>\n      <td>NaN</td>\n      <td>NaN</td>\n      <td>NaN</td>\n      <td>0</td>\n      <td>12</td>\n      <td>2008</td>\n      <td>WD</td>\n      <td>Normal</td>\n      <td>250000</td>\n    </tr>\n    <tr>\n      <th>...</th>\n      <td>...</td>\n      <td>...</td>\n      <td>...</td>\n      <td>...</td>\n      <td>...</td>\n      <td>...</td>\n      <td>...</td>\n      <td>...</td>\n      <td>...</td>\n      <td>...</td>\n      <td>...</td>\n      <td>...</td>\n      <td>...</td>\n      <td>...</td>\n      <td>...</td>\n      <td>...</td>\n      <td>...</td>\n      <td>...</td>\n      <td>...</td>\n      <td>...</td>\n      <td>...</td>\n    </tr>\n    <tr>\n      <th>1455</th>\n      <td>1456</td>\n      <td>60</td>\n      <td>RL</td>\n      <td>62.0</td>\n      <td>7917</td>\n      <td>Pave</td>\n      <td>NaN</td>\n      <td>Reg</td>\n      <td>Lvl</td>\n      <td>AllPub</td>\n      <td>...</td>\n      <td>0</td>\n      <td>NaN</td>\n      <td>NaN</td>\n      <td>NaN</td>\n      <td>0</td>\n      <td>8</td>\n      <td>2007</td>\n      <td>WD</td>\n      <td>Normal</td>\n      <td>175000</td>\n    </tr>\n    <tr>\n      <th>1456</th>\n      <td>1457</td>\n      <td>20</td>\n      <td>RL</td>\n      <td>85.0</td>\n      <td>13175</td>\n      <td>Pave</td>\n      <td>NaN</td>\n      <td>Reg</td>\n      <td>Lvl</td>\n      <td>AllPub</td>\n      <td>...</td>\n      <td>0</td>\n      <td>NaN</td>\n      <td>MnPrv</td>\n      <td>NaN</td>\n      <td>0</td>\n      <td>2</td>\n      <td>2010</td>\n      <td>WD</td>\n      <td>Normal</td>\n      <td>210000</td>\n    </tr>\n    <tr>\n      <th>1457</th>\n      <td>1458</td>\n      <td>70</td>\n      <td>RL</td>\n      <td>66.0</td>\n      <td>9042</td>\n      <td>Pave</td>\n      <td>NaN</td>\n      <td>Reg</td>\n      <td>Lvl</td>\n      <td>AllPub</td>\n      <td>...</td>\n      <td>0</td>\n      <td>NaN</td>\n      <td>GdPrv</td>\n      <td>Shed</td>\n      <td>2500</td>\n      <td>5</td>\n      <td>2010</td>\n      <td>WD</td>\n      <td>Normal</td>\n      <td>266500</td>\n    </tr>\n    <tr>\n      <th>1458</th>\n      <td>1459</td>\n      <td>20</td>\n      <td>RL</td>\n      <td>68.0</td>\n      <td>9717</td>\n      <td>Pave</td>\n      <td>NaN</td>\n      <td>Reg</td>\n      <td>Lvl</td>\n      <td>AllPub</td>\n      <td>...</td>\n      <td>0</td>\n      <td>NaN</td>\n      <td>NaN</td>\n      <td>NaN</td>\n      <td>0</td>\n      <td>4</td>\n      <td>2010</td>\n      <td>WD</td>\n      <td>Normal</td>\n      <td>142125</td>\n    </tr>\n    <tr>\n      <th>1459</th>\n      <td>1460</td>\n      <td>20</td>\n      <td>RL</td>\n      <td>75.0</td>\n      <td>9937</td>\n      <td>Pave</td>\n      <td>NaN</td>\n      <td>Reg</td>\n      <td>Lvl</td>\n      <td>AllPub</td>\n      <td>...</td>\n      <td>0</td>\n      <td>NaN</td>\n      <td>NaN</td>\n      <td>NaN</td>\n      <td>0</td>\n      <td>6</td>\n      <td>2008</td>\n      <td>WD</td>\n      <td>Normal</td>\n      <td>147500</td>\n    </tr>\n  </tbody>\n</table>\n<p>1460 rows × 81 columns</p>\n</div>"
     },
     "execution_count": 364,
     "metadata": {},
     "output_type": "execute_result"
    }
   ],
   "source": [
    "train_df"
   ],
   "metadata": {
    "collapsed": false
   }
  },
  {
   "cell_type": "code",
   "execution_count": 365,
   "outputs": [],
   "source": [
    "def clean_df(df):\n",
    "    df.drop(['Alley', 'PoolQC', 'Fence', 'MiscFeature'], axis=1,\n",
    "            inplace=True)  ## Удаляем фитчи где больщая часть информации отсутсвует\n",
    "    df['MSZoning'] = df['MSZoning'].replace({'C (all)': 'C'})\n",
    "    df['Exterior1st'] = df['Exterior1st'].replace({'Wd Sdng': 'Wd_Sdng'})\n",
    "    df['Exterior2nd'] = df['Exterior2nd'].replace({'Wd Sdng': 'Wd_Sdng'})\n",
    "    df['GarageYrBlt'] = df['GarageYrBlt'].where(df.GarageYrBlt <= 2010,\n",
    "                                                df.YearBuilt)  # у испорченных значений заменяем год постройки гаража на год     постройки дома\n",
    "    df.rename(columns={\n",
    "        '1stFlrSF': 'FirstFlrSF',\n",
    "        '2ndFlrSF': 'SecondFlrSF',\n",
    "        '3SsnPorch': 'Threeseasonporch'}, inplace=True, )\n",
    "    return df"
   ],
   "metadata": {
    "collapsed": false
   }
  },
  {
   "cell_type": "code",
   "execution_count": 366,
   "outputs": [],
   "source": [
    "# The nominative (unordered) categorical features\n",
    "features_nom = ['MSSubClass', 'MSZoning', 'Street', 'LandContour', 'LotConfig', 'Neighborhood', 'Condition1',\n",
    "                'Condition2', 'BldgType', 'HouseStyle', 'RoofStyle', 'RoofMatl', 'Exterior1st', 'Exterior2nd',\n",
    "                'MasVnrType',\n",
    "                'Foundation', 'Heating', 'CentralAir', 'GarageType', 'SaleType', 'SaleCondition']\n",
    "\n",
    "# Pandas calls the categories \"levels\"\n",
    "five_feature = ['Po', 'Fa', 'Ta', 'Gd', 'Ex']\n",
    "ten_feature = list(range(10))\n",
    "\n",
    "ordered_levels = {\n",
    "    'OverallQual': ten_feature,\n",
    "    'OverallCond': ten_feature,\n",
    "    'ExterQual': five_feature,\n",
    "    'ExterCond': five_feature,\n",
    "    'BsmtQual': five_feature,\n",
    "    'BsmtCond': five_feature,\n",
    "    'HeatingQC': five_feature,\n",
    "    'KitchenQual': five_feature,\n",
    "    'FireplaceQu': five_feature,\n",
    "    'GarageQual': five_feature,\n",
    "    'GarageCond': five_feature,\n",
    "\n",
    "    'LotShape': ['Reg', 'IR1', 'IR2', 'IR3'],\n",
    "    'LandSlope': ['Sev', 'Mod', 'Gtl'],\n",
    "    'BsmtExposure': ['No', 'Mn', 'Av', 'Gd'],\n",
    "    'BsmtFinType1': ['Unf', 'LwQ', 'Rec', 'BLQ', 'ALQ', 'GLQ'],\n",
    "    'BsmtFinType2': ['Unf', 'LwQ', 'Rec', 'BLQ', 'ALQ', 'GLQ'],\n",
    "    'Functional': ['Sal', 'Sev', 'Maj2', 'Maj1', 'Mod', 'Min2', 'Min1', 'Typ'],\n",
    "    'GarageFinish': ['Unf', 'RFn', 'Fin'],\n",
    "    'PavedDrive': ['N', 'P', 'Y'],\n",
    "    'Utilities': ['NoSeWa', 'ELO', 'NoSewr', 'AllPub'],\n",
    "    'CentralAir': ['N', 'Y'],\n",
    "    'Electrical': ['Mix', 'FuseP', 'FuseF', 'FuseA', 'SBrkr'],\n",
    "\n",
    "}\n",
    "\n",
    "# Add a None level for missing values\n",
    "ordered_levels = {key: ['None'] + value for key, value in ordered_levels.items()}\n",
    "\n",
    "\n",
    "# Defining encoding function\n",
    "def encode(df):\n",
    "    # Nominal categories\n",
    "    for name in features_nom:\n",
    "        df[name] = df[name].astype('category')\n",
    "        # Add a None category for missing values\n",
    "        if 'None' not in df[name].cat.categories:\n",
    "            df[name].cat.add_categories('None', inplace=True)\n",
    "\n",
    "    # Ordinal categories\n",
    "    for name, levels in ordered_levels.items():\n",
    "        df[name] = df[name].astype(CategoricalDtype(levels, ordered=True))\n",
    "    return df"
   ],
   "metadata": {
    "collapsed": false
   }
  },
  {
   "cell_type": "code",
   "execution_count": 367,
   "outputs": [],
   "source": [
    "def impute(df):\n",
    "    for name in df.select_dtypes('number'):\n",
    "        df[name] = df[name].fillna(0)\n",
    "    for name in df.select_dtypes('category'):\n",
    "        df[name] = df[name].fillna('None')\n",
    "    return df"
   ],
   "metadata": {
    "collapsed": false
   }
  },
  {
   "cell_type": "code",
   "execution_count": 368,
   "outputs": [],
   "source": [
    "def all_data(df):\n",
    "    clean_df(df)\n",
    "    encode(df)\n",
    "    impute(df)\n",
    "    return df"
   ],
   "metadata": {
    "collapsed": false
   }
  },
  {
   "cell_type": "code",
   "execution_count": 369,
   "outputs": [],
   "source": [
    "train_df = all_data(train_df)\n",
    "test_df = all_data(test_df)\n"
   ],
   "metadata": {
    "collapsed": false
   }
  },
  {
   "cell_type": "code",
   "execution_count": 370,
   "outputs": [
    {
     "data": {
      "text/plain": "        Id MSSubClass MSZoning  LotFrontage  LotArea Street LotShape  \\\n0        1         60       RL         65.0     8450   Pave      Reg   \n1        2         20       RL         80.0     9600   Pave      Reg   \n2        3         60       RL         68.0    11250   Pave      IR1   \n3        4         70       RL         60.0     9550   Pave      IR1   \n4        5         60       RL         84.0    14260   Pave      IR1   \n...    ...        ...      ...          ...      ...    ...      ...   \n1455  1456         60       RL         62.0     7917   Pave      Reg   \n1456  1457         20       RL         85.0    13175   Pave      Reg   \n1457  1458         70       RL         66.0     9042   Pave      Reg   \n1458  1459         20       RL         68.0     9717   Pave      Reg   \n1459  1460         20       RL         75.0     9937   Pave      Reg   \n\n     LandContour Utilities LotConfig  ... EnclosedPorch Threeseasonporch  \\\n0            Lvl    AllPub    Inside  ...             0                0   \n1            Lvl    AllPub       FR2  ...             0                0   \n2            Lvl    AllPub    Inside  ...             0                0   \n3            Lvl    AllPub    Corner  ...           272                0   \n4            Lvl    AllPub       FR2  ...             0                0   \n...          ...       ...       ...  ...           ...              ...   \n1455         Lvl    AllPub    Inside  ...             0                0   \n1456         Lvl    AllPub    Inside  ...             0                0   \n1457         Lvl    AllPub    Inside  ...             0                0   \n1458         Lvl    AllPub    Inside  ...           112                0   \n1459         Lvl    AllPub    Inside  ...             0                0   \n\n     ScreenPorch PoolArea MiscVal MoSold YrSold SaleType  SaleCondition  \\\n0              0        0       0      2   2008       WD         Normal   \n1              0        0       0      5   2007       WD         Normal   \n2              0        0       0      9   2008       WD         Normal   \n3              0        0       0      2   2006       WD        Abnorml   \n4              0        0       0     12   2008       WD         Normal   \n...          ...      ...     ...    ...    ...      ...            ...   \n1455           0        0       0      8   2007       WD         Normal   \n1456           0        0       0      2   2010       WD         Normal   \n1457           0        0    2500      5   2010       WD         Normal   \n1458           0        0       0      4   2010       WD         Normal   \n1459           0        0       0      6   2008       WD         Normal   \n\n      SalePrice  \n0        208500  \n1        181500  \n2        223500  \n3        140000  \n4        250000  \n...         ...  \n1455     175000  \n1456     210000  \n1457     266500  \n1458     142125  \n1459     147500  \n\n[1460 rows x 77 columns]",
      "text/html": "<div>\n<style scoped>\n    .dataframe tbody tr th:only-of-type {\n        vertical-align: middle;\n    }\n\n    .dataframe tbody tr th {\n        vertical-align: top;\n    }\n\n    .dataframe thead th {\n        text-align: right;\n    }\n</style>\n<table border=\"1\" class=\"dataframe\">\n  <thead>\n    <tr style=\"text-align: right;\">\n      <th></th>\n      <th>Id</th>\n      <th>MSSubClass</th>\n      <th>MSZoning</th>\n      <th>LotFrontage</th>\n      <th>LotArea</th>\n      <th>Street</th>\n      <th>LotShape</th>\n      <th>LandContour</th>\n      <th>Utilities</th>\n      <th>LotConfig</th>\n      <th>...</th>\n      <th>EnclosedPorch</th>\n      <th>Threeseasonporch</th>\n      <th>ScreenPorch</th>\n      <th>PoolArea</th>\n      <th>MiscVal</th>\n      <th>MoSold</th>\n      <th>YrSold</th>\n      <th>SaleType</th>\n      <th>SaleCondition</th>\n      <th>SalePrice</th>\n    </tr>\n  </thead>\n  <tbody>\n    <tr>\n      <th>0</th>\n      <td>1</td>\n      <td>60</td>\n      <td>RL</td>\n      <td>65.0</td>\n      <td>8450</td>\n      <td>Pave</td>\n      <td>Reg</td>\n      <td>Lvl</td>\n      <td>AllPub</td>\n      <td>Inside</td>\n      <td>...</td>\n      <td>0</td>\n      <td>0</td>\n      <td>0</td>\n      <td>0</td>\n      <td>0</td>\n      <td>2</td>\n      <td>2008</td>\n      <td>WD</td>\n      <td>Normal</td>\n      <td>208500</td>\n    </tr>\n    <tr>\n      <th>1</th>\n      <td>2</td>\n      <td>20</td>\n      <td>RL</td>\n      <td>80.0</td>\n      <td>9600</td>\n      <td>Pave</td>\n      <td>Reg</td>\n      <td>Lvl</td>\n      <td>AllPub</td>\n      <td>FR2</td>\n      <td>...</td>\n      <td>0</td>\n      <td>0</td>\n      <td>0</td>\n      <td>0</td>\n      <td>0</td>\n      <td>5</td>\n      <td>2007</td>\n      <td>WD</td>\n      <td>Normal</td>\n      <td>181500</td>\n    </tr>\n    <tr>\n      <th>2</th>\n      <td>3</td>\n      <td>60</td>\n      <td>RL</td>\n      <td>68.0</td>\n      <td>11250</td>\n      <td>Pave</td>\n      <td>IR1</td>\n      <td>Lvl</td>\n      <td>AllPub</td>\n      <td>Inside</td>\n      <td>...</td>\n      <td>0</td>\n      <td>0</td>\n      <td>0</td>\n      <td>0</td>\n      <td>0</td>\n      <td>9</td>\n      <td>2008</td>\n      <td>WD</td>\n      <td>Normal</td>\n      <td>223500</td>\n    </tr>\n    <tr>\n      <th>3</th>\n      <td>4</td>\n      <td>70</td>\n      <td>RL</td>\n      <td>60.0</td>\n      <td>9550</td>\n      <td>Pave</td>\n      <td>IR1</td>\n      <td>Lvl</td>\n      <td>AllPub</td>\n      <td>Corner</td>\n      <td>...</td>\n      <td>272</td>\n      <td>0</td>\n      <td>0</td>\n      <td>0</td>\n      <td>0</td>\n      <td>2</td>\n      <td>2006</td>\n      <td>WD</td>\n      <td>Abnorml</td>\n      <td>140000</td>\n    </tr>\n    <tr>\n      <th>4</th>\n      <td>5</td>\n      <td>60</td>\n      <td>RL</td>\n      <td>84.0</td>\n      <td>14260</td>\n      <td>Pave</td>\n      <td>IR1</td>\n      <td>Lvl</td>\n      <td>AllPub</td>\n      <td>FR2</td>\n      <td>...</td>\n      <td>0</td>\n      <td>0</td>\n      <td>0</td>\n      <td>0</td>\n      <td>0</td>\n      <td>12</td>\n      <td>2008</td>\n      <td>WD</td>\n      <td>Normal</td>\n      <td>250000</td>\n    </tr>\n    <tr>\n      <th>...</th>\n      <td>...</td>\n      <td>...</td>\n      <td>...</td>\n      <td>...</td>\n      <td>...</td>\n      <td>...</td>\n      <td>...</td>\n      <td>...</td>\n      <td>...</td>\n      <td>...</td>\n      <td>...</td>\n      <td>...</td>\n      <td>...</td>\n      <td>...</td>\n      <td>...</td>\n      <td>...</td>\n      <td>...</td>\n      <td>...</td>\n      <td>...</td>\n      <td>...</td>\n      <td>...</td>\n    </tr>\n    <tr>\n      <th>1455</th>\n      <td>1456</td>\n      <td>60</td>\n      <td>RL</td>\n      <td>62.0</td>\n      <td>7917</td>\n      <td>Pave</td>\n      <td>Reg</td>\n      <td>Lvl</td>\n      <td>AllPub</td>\n      <td>Inside</td>\n      <td>...</td>\n      <td>0</td>\n      <td>0</td>\n      <td>0</td>\n      <td>0</td>\n      <td>0</td>\n      <td>8</td>\n      <td>2007</td>\n      <td>WD</td>\n      <td>Normal</td>\n      <td>175000</td>\n    </tr>\n    <tr>\n      <th>1456</th>\n      <td>1457</td>\n      <td>20</td>\n      <td>RL</td>\n      <td>85.0</td>\n      <td>13175</td>\n      <td>Pave</td>\n      <td>Reg</td>\n      <td>Lvl</td>\n      <td>AllPub</td>\n      <td>Inside</td>\n      <td>...</td>\n      <td>0</td>\n      <td>0</td>\n      <td>0</td>\n      <td>0</td>\n      <td>0</td>\n      <td>2</td>\n      <td>2010</td>\n      <td>WD</td>\n      <td>Normal</td>\n      <td>210000</td>\n    </tr>\n    <tr>\n      <th>1457</th>\n      <td>1458</td>\n      <td>70</td>\n      <td>RL</td>\n      <td>66.0</td>\n      <td>9042</td>\n      <td>Pave</td>\n      <td>Reg</td>\n      <td>Lvl</td>\n      <td>AllPub</td>\n      <td>Inside</td>\n      <td>...</td>\n      <td>0</td>\n      <td>0</td>\n      <td>0</td>\n      <td>0</td>\n      <td>2500</td>\n      <td>5</td>\n      <td>2010</td>\n      <td>WD</td>\n      <td>Normal</td>\n      <td>266500</td>\n    </tr>\n    <tr>\n      <th>1458</th>\n      <td>1459</td>\n      <td>20</td>\n      <td>RL</td>\n      <td>68.0</td>\n      <td>9717</td>\n      <td>Pave</td>\n      <td>Reg</td>\n      <td>Lvl</td>\n      <td>AllPub</td>\n      <td>Inside</td>\n      <td>...</td>\n      <td>112</td>\n      <td>0</td>\n      <td>0</td>\n      <td>0</td>\n      <td>0</td>\n      <td>4</td>\n      <td>2010</td>\n      <td>WD</td>\n      <td>Normal</td>\n      <td>142125</td>\n    </tr>\n    <tr>\n      <th>1459</th>\n      <td>1460</td>\n      <td>20</td>\n      <td>RL</td>\n      <td>75.0</td>\n      <td>9937</td>\n      <td>Pave</td>\n      <td>Reg</td>\n      <td>Lvl</td>\n      <td>AllPub</td>\n      <td>Inside</td>\n      <td>...</td>\n      <td>0</td>\n      <td>0</td>\n      <td>0</td>\n      <td>0</td>\n      <td>0</td>\n      <td>6</td>\n      <td>2008</td>\n      <td>WD</td>\n      <td>Normal</td>\n      <td>147500</td>\n    </tr>\n  </tbody>\n</table>\n<p>1460 rows × 77 columns</p>\n</div>"
     },
     "metadata": {},
     "output_type": "display_data"
    },
    {
     "name": "stdout",
     "output_type": "stream",
     "text": [
      " \n",
      "--------------------\n",
      " \n"
     ]
    },
    {
     "data": {
      "text/plain": "        Id MSSubClass MSZoning  LotFrontage  LotArea Street LotShape  \\\n0     1461         20       RH         80.0    11622   Pave      Reg   \n1     1462         20       RL         81.0    14267   Pave      IR1   \n2     1463         60       RL         74.0    13830   Pave      IR1   \n3     1464         60       RL         78.0     9978   Pave      IR1   \n4     1465        120       RL         43.0     5005   Pave      IR1   \n...    ...        ...      ...          ...      ...    ...      ...   \n1454  2915        160       RM         21.0     1936   Pave      Reg   \n1455  2916        160       RM         21.0     1894   Pave      Reg   \n1456  2917         20       RL        160.0    20000   Pave      Reg   \n1457  2918         85       RL         62.0    10441   Pave      Reg   \n1458  2919         60       RL         74.0     9627   Pave      Reg   \n\n     LandContour Utilities LotConfig  ... OpenPorchSF EnclosedPorch  \\\n0            Lvl    AllPub    Inside  ...           0             0   \n1            Lvl    AllPub    Corner  ...          36             0   \n2            Lvl    AllPub    Inside  ...          34             0   \n3            Lvl    AllPub    Inside  ...          36             0   \n4            HLS    AllPub    Inside  ...          82             0   \n...          ...       ...       ...  ...         ...           ...   \n1454         Lvl    AllPub    Inside  ...           0             0   \n1455         Lvl    AllPub    Inside  ...          24             0   \n1456         Lvl    AllPub    Inside  ...           0             0   \n1457         Lvl    AllPub    Inside  ...          32             0   \n1458         Lvl    AllPub    Inside  ...          48             0   \n\n     Threeseasonporch ScreenPorch PoolArea MiscVal MoSold YrSold  SaleType  \\\n0                   0         120        0       0      6   2010        WD   \n1                   0           0        0   12500      6   2010        WD   \n2                   0           0        0       0      3   2010        WD   \n3                   0           0        0       0      6   2010        WD   \n4                   0         144        0       0      1   2010        WD   \n...               ...         ...      ...     ...    ...    ...       ...   \n1454                0           0        0       0      6   2006        WD   \n1455                0           0        0       0      4   2006        WD   \n1456                0           0        0       0      9   2006        WD   \n1457                0           0        0     700      7   2006        WD   \n1458                0           0        0       0     11   2006        WD   \n\n      SaleCondition  \n0            Normal  \n1            Normal  \n2            Normal  \n3            Normal  \n4            Normal  \n...             ...  \n1454         Normal  \n1455        Abnorml  \n1456        Abnorml  \n1457         Normal  \n1458         Normal  \n\n[1459 rows x 76 columns]",
      "text/html": "<div>\n<style scoped>\n    .dataframe tbody tr th:only-of-type {\n        vertical-align: middle;\n    }\n\n    .dataframe tbody tr th {\n        vertical-align: top;\n    }\n\n    .dataframe thead th {\n        text-align: right;\n    }\n</style>\n<table border=\"1\" class=\"dataframe\">\n  <thead>\n    <tr style=\"text-align: right;\">\n      <th></th>\n      <th>Id</th>\n      <th>MSSubClass</th>\n      <th>MSZoning</th>\n      <th>LotFrontage</th>\n      <th>LotArea</th>\n      <th>Street</th>\n      <th>LotShape</th>\n      <th>LandContour</th>\n      <th>Utilities</th>\n      <th>LotConfig</th>\n      <th>...</th>\n      <th>OpenPorchSF</th>\n      <th>EnclosedPorch</th>\n      <th>Threeseasonporch</th>\n      <th>ScreenPorch</th>\n      <th>PoolArea</th>\n      <th>MiscVal</th>\n      <th>MoSold</th>\n      <th>YrSold</th>\n      <th>SaleType</th>\n      <th>SaleCondition</th>\n    </tr>\n  </thead>\n  <tbody>\n    <tr>\n      <th>0</th>\n      <td>1461</td>\n      <td>20</td>\n      <td>RH</td>\n      <td>80.0</td>\n      <td>11622</td>\n      <td>Pave</td>\n      <td>Reg</td>\n      <td>Lvl</td>\n      <td>AllPub</td>\n      <td>Inside</td>\n      <td>...</td>\n      <td>0</td>\n      <td>0</td>\n      <td>0</td>\n      <td>120</td>\n      <td>0</td>\n      <td>0</td>\n      <td>6</td>\n      <td>2010</td>\n      <td>WD</td>\n      <td>Normal</td>\n    </tr>\n    <tr>\n      <th>1</th>\n      <td>1462</td>\n      <td>20</td>\n      <td>RL</td>\n      <td>81.0</td>\n      <td>14267</td>\n      <td>Pave</td>\n      <td>IR1</td>\n      <td>Lvl</td>\n      <td>AllPub</td>\n      <td>Corner</td>\n      <td>...</td>\n      <td>36</td>\n      <td>0</td>\n      <td>0</td>\n      <td>0</td>\n      <td>0</td>\n      <td>12500</td>\n      <td>6</td>\n      <td>2010</td>\n      <td>WD</td>\n      <td>Normal</td>\n    </tr>\n    <tr>\n      <th>2</th>\n      <td>1463</td>\n      <td>60</td>\n      <td>RL</td>\n      <td>74.0</td>\n      <td>13830</td>\n      <td>Pave</td>\n      <td>IR1</td>\n      <td>Lvl</td>\n      <td>AllPub</td>\n      <td>Inside</td>\n      <td>...</td>\n      <td>34</td>\n      <td>0</td>\n      <td>0</td>\n      <td>0</td>\n      <td>0</td>\n      <td>0</td>\n      <td>3</td>\n      <td>2010</td>\n      <td>WD</td>\n      <td>Normal</td>\n    </tr>\n    <tr>\n      <th>3</th>\n      <td>1464</td>\n      <td>60</td>\n      <td>RL</td>\n      <td>78.0</td>\n      <td>9978</td>\n      <td>Pave</td>\n      <td>IR1</td>\n      <td>Lvl</td>\n      <td>AllPub</td>\n      <td>Inside</td>\n      <td>...</td>\n      <td>36</td>\n      <td>0</td>\n      <td>0</td>\n      <td>0</td>\n      <td>0</td>\n      <td>0</td>\n      <td>6</td>\n      <td>2010</td>\n      <td>WD</td>\n      <td>Normal</td>\n    </tr>\n    <tr>\n      <th>4</th>\n      <td>1465</td>\n      <td>120</td>\n      <td>RL</td>\n      <td>43.0</td>\n      <td>5005</td>\n      <td>Pave</td>\n      <td>IR1</td>\n      <td>HLS</td>\n      <td>AllPub</td>\n      <td>Inside</td>\n      <td>...</td>\n      <td>82</td>\n      <td>0</td>\n      <td>0</td>\n      <td>144</td>\n      <td>0</td>\n      <td>0</td>\n      <td>1</td>\n      <td>2010</td>\n      <td>WD</td>\n      <td>Normal</td>\n    </tr>\n    <tr>\n      <th>...</th>\n      <td>...</td>\n      <td>...</td>\n      <td>...</td>\n      <td>...</td>\n      <td>...</td>\n      <td>...</td>\n      <td>...</td>\n      <td>...</td>\n      <td>...</td>\n      <td>...</td>\n      <td>...</td>\n      <td>...</td>\n      <td>...</td>\n      <td>...</td>\n      <td>...</td>\n      <td>...</td>\n      <td>...</td>\n      <td>...</td>\n      <td>...</td>\n      <td>...</td>\n      <td>...</td>\n    </tr>\n    <tr>\n      <th>1454</th>\n      <td>2915</td>\n      <td>160</td>\n      <td>RM</td>\n      <td>21.0</td>\n      <td>1936</td>\n      <td>Pave</td>\n      <td>Reg</td>\n      <td>Lvl</td>\n      <td>AllPub</td>\n      <td>Inside</td>\n      <td>...</td>\n      <td>0</td>\n      <td>0</td>\n      <td>0</td>\n      <td>0</td>\n      <td>0</td>\n      <td>0</td>\n      <td>6</td>\n      <td>2006</td>\n      <td>WD</td>\n      <td>Normal</td>\n    </tr>\n    <tr>\n      <th>1455</th>\n      <td>2916</td>\n      <td>160</td>\n      <td>RM</td>\n      <td>21.0</td>\n      <td>1894</td>\n      <td>Pave</td>\n      <td>Reg</td>\n      <td>Lvl</td>\n      <td>AllPub</td>\n      <td>Inside</td>\n      <td>...</td>\n      <td>24</td>\n      <td>0</td>\n      <td>0</td>\n      <td>0</td>\n      <td>0</td>\n      <td>0</td>\n      <td>4</td>\n      <td>2006</td>\n      <td>WD</td>\n      <td>Abnorml</td>\n    </tr>\n    <tr>\n      <th>1456</th>\n      <td>2917</td>\n      <td>20</td>\n      <td>RL</td>\n      <td>160.0</td>\n      <td>20000</td>\n      <td>Pave</td>\n      <td>Reg</td>\n      <td>Lvl</td>\n      <td>AllPub</td>\n      <td>Inside</td>\n      <td>...</td>\n      <td>0</td>\n      <td>0</td>\n      <td>0</td>\n      <td>0</td>\n      <td>0</td>\n      <td>0</td>\n      <td>9</td>\n      <td>2006</td>\n      <td>WD</td>\n      <td>Abnorml</td>\n    </tr>\n    <tr>\n      <th>1457</th>\n      <td>2918</td>\n      <td>85</td>\n      <td>RL</td>\n      <td>62.0</td>\n      <td>10441</td>\n      <td>Pave</td>\n      <td>Reg</td>\n      <td>Lvl</td>\n      <td>AllPub</td>\n      <td>Inside</td>\n      <td>...</td>\n      <td>32</td>\n      <td>0</td>\n      <td>0</td>\n      <td>0</td>\n      <td>0</td>\n      <td>700</td>\n      <td>7</td>\n      <td>2006</td>\n      <td>WD</td>\n      <td>Normal</td>\n    </tr>\n    <tr>\n      <th>1458</th>\n      <td>2919</td>\n      <td>60</td>\n      <td>RL</td>\n      <td>74.0</td>\n      <td>9627</td>\n      <td>Pave</td>\n      <td>Reg</td>\n      <td>Lvl</td>\n      <td>AllPub</td>\n      <td>Inside</td>\n      <td>...</td>\n      <td>48</td>\n      <td>0</td>\n      <td>0</td>\n      <td>0</td>\n      <td>0</td>\n      <td>0</td>\n      <td>11</td>\n      <td>2006</td>\n      <td>WD</td>\n      <td>Normal</td>\n    </tr>\n  </tbody>\n</table>\n<p>1459 rows × 76 columns</p>\n</div>"
     },
     "metadata": {},
     "output_type": "display_data"
    }
   ],
   "source": [
    "display(train_df)\n",
    "print(' ')\n",
    "print('-' * 20)\n",
    "print(' ')\n",
    "display(test_df)"
   ],
   "metadata": {
    "collapsed": false
   }
  },
  {
   "cell_type": "code",
   "execution_count": 371,
   "outputs": [],
   "source": [
    "train_df_dum = pd.get_dummies(train_df)"
   ],
   "metadata": {
    "collapsed": false
   }
  },
  {
   "cell_type": "code",
   "execution_count": 372,
   "outputs": [],
   "source": [
    "test_df_dum = pd.get_dummies(test_df)"
   ],
   "metadata": {
    "collapsed": false
   }
  },
  {
   "cell_type": "code",
   "execution_count": 373,
   "outputs": [
    {
     "data": {
      "text/plain": "344"
     },
     "execution_count": 373,
     "metadata": {},
     "output_type": "execute_result"
    }
   ],
   "source": [
    "test_df_dum.columns.nunique()"
   ],
   "metadata": {
    "collapsed": false
   }
  },
  {
   "cell_type": "code",
   "execution_count": 374,
   "outputs": [],
   "source": [
    "final_df = pd.concat([train_df, test_df])"
   ],
   "metadata": {
    "collapsed": false
   }
  },
  {
   "cell_type": "code",
   "execution_count": 375,
   "outputs": [],
   "source": [
    "final_df_dum = pd.get_dummies(final_df)"
   ],
   "metadata": {
    "collapsed": false
   }
  },
  {
   "cell_type": "code",
   "execution_count": 376,
   "outputs": [],
   "source": [
    "fin_train = final_df_dum.iloc[:len(train_df.index)]\n",
    "fin_test = final_df_dum.iloc[len(test_df.index) + 1:]"
   ],
   "metadata": {
    "collapsed": false
   }
  },
  {
   "cell_type": "code",
   "execution_count": 377,
   "outputs": [],
   "source": [
    "fin_train['Bath_total'] = fin_train['FullBath'] + 0.5 * fin_train['HalfBath'] + fin_train['BsmtFullBath'] + 0.5 *fin_train['BsmtHalfBath']\n",
    "fin_test['Bath_total'] = fin_test['FullBath'] + 0.5 * fin_test['HalfBath'] + fin_test['BsmtFullBath'] + 0.5 * fin_test[\n",
    "    'BsmtHalfBath']"
   ],
   "metadata": {
    "collapsed": false
   }
  },
  {
   "cell_type": "code",
   "execution_count": 378,
   "outputs": [],
   "source": [
    "fin_train['BsmtFinSF'] = fin_train['BsmtFinSF1'] + fin_train['BsmtFinSF2'] - fin_train['BsmtUnfSF']\n",
    "fin_test['BsmtFinSF'] = fin_test['BsmtFinSF1'] + fin_test['BsmtFinSF2'] - fin_test['BsmtUnfSF']"
   ],
   "metadata": {
    "collapsed": false
   }
  },
  {
   "cell_type": "code",
   "execution_count": 379,
   "outputs": [],
   "source": [
    "fin_train['Porch'] = fin_train['OpenPorchSF'] + fin_train['EnclosedPorch'] + fin_train['Threeseasonporch'] + fin_train[\n",
    "    'ScreenPorch']\n",
    "fin_test['Porch'] = fin_test['OpenPorchSF'] + fin_test['EnclosedPorch'] + fin_test['Threeseasonporch'] + fin_test[\n",
    "    'ScreenPorch']"
   ],
   "metadata": {
    "collapsed": false
   }
  },
  {
   "cell_type": "code",
   "execution_count": 380,
   "outputs": [],
   "source": [
    "fin_train['FinSF'] = fin_train['FirstFlrSF'] + fin_train['SecondFlrSF'] - fin_train['LowQualFinSF']\n",
    "fin_test['FinSF'] = fin_test['FirstFlrSF'] + fin_test['SecondFlrSF'] - fin_test['LowQualFinSF']"
   ],
   "metadata": {
    "collapsed": false
   }
  },
  {
   "cell_type": "code",
   "execution_count": 381,
   "outputs": [],
   "source": [
    "columns_to_drop = ['PoolArea', 'MiscVal',\n",
    "                   'WoodDeckSF',\n",
    "                   'Fireplaces', 'MasVnrArea',\n",
    "                   'FullBath', 'HalfBath', 'BsmtFullBath',\n",
    "                   'BsmtHalfBath', 'BsmtFinSF1', 'BsmtFinSF2',\n",
    "                   'BsmtUnfSF', 'OpenPorchSF', 'EnclosedPorch',\n",
    "                   'Threeseasonporch', 'ScreenPorch',\n",
    "                   'FirstFlrSF', 'SecondFlrSF', 'LowQualFinSF']\n",
    "\n",
    "fin_train = fin_train.drop(columns_to_drop, axis=1)\n",
    "fin_test = fin_test.drop(columns_to_drop, axis=1)"
   ],
   "metadata": {
    "collapsed": false
   }
  },
  {
   "cell_type": "code",
   "execution_count": 382,
   "outputs": [],
   "source": [
    "from datetime import datetime\n",
    "year_col = ['YrSold','YearBuilt','YearRemodAdd', 'GarageYrBlt']\n",
    "\n",
    "for col in year_col:\n",
    "    fin_train[col]  =  round(fin_train[col]/5)*5\n",
    "    fin_test[col]  =  round(fin_test[col]/5)*5"
   ],
   "metadata": {
    "collapsed": false
   }
  },
  {
   "cell_type": "code",
   "execution_count": 383,
   "outputs": [],
   "source": [
    "X = fin_train.drop([\"SalePrice\", ], axis=1)\n",
    "y = np.log1p(train_df[\"SalePrice\"].values)\n",
    "\n",
    "test_pred = fin_test.drop(['SalePrice'], axis=1)"
   ],
   "metadata": {
    "collapsed": false
   }
  },
  {
   "cell_type": "code",
   "execution_count": 384,
   "outputs": [],
   "source": [
    "Scaler = StandardScaler()\n",
    "fin_train_scale = Scaler.fit_transform(X)\n",
    "fin_test_scale = Scaler.transform(test_pred)"
   ],
   "metadata": {
    "collapsed": false
   }
  },
  {
   "cell_type": "code",
   "execution_count": 385,
   "outputs": [],
   "source": [
    "X_train, X_test, y_train, y_test = train_test_split(X, y, test_size=0.33, random_state=42)"
   ],
   "metadata": {
    "collapsed": false
   }
  },
  {
   "cell_type": "code",
   "execution_count": 386,
   "outputs": [],
   "source": [
    "xgb = XGBRegressor(objective='reg:linear',\n",
    "                   eval_metric='rmse',\n",
    "                   eta=0.001,\n",
    "                   max_depth=10,\n",
    "                   subsample=0.6,\n",
    "                   colsample_bytree=0.6,\n",
    "                   alpha=0.001,\n",
    "                   random_state=17,\n",
    "                   silent=True,\n",
    "                   n_estimators=15000,\n",
    "                   n_jobs=-1,\n",
    "                   seed=17\n",
    "                   )"
   ],
   "metadata": {
    "collapsed": false
   }
  },
  {
   "cell_type": "code",
   "execution_count": 387,
   "outputs": [
    {
     "name": "stdout",
     "output_type": "stream",
     "text": [
      "[13:49:40] WARNING: C:/buildkite-agent/builds/buildkite-windows-cpu-autoscaling-group-i-030221e36e1a46bfb-1/xgboost/xgboost-ci-windows/src/objective/regression_obj.cu:213: reg:linear is now deprecated in favor of reg:squarederror.\n",
      "[13:49:40] WARNING: C:/buildkite-agent/builds/buildkite-windows-cpu-autoscaling-group-i-030221e36e1a46bfb-1/xgboost/xgboost-ci-windows/src/learner.cc:767: \n",
      "Parameters: { \"silent\" } are not used.\n",
      "\n",
      "[0]\tvalidation_0-rmse:11.51114\n",
      "[30]\tvalidation_0-rmse:11.17145\n",
      "[60]\tvalidation_0-rmse:10.84183\n",
      "[90]\tvalidation_0-rmse:10.52187\n",
      "[120]\tvalidation_0-rmse:10.21128\n",
      "[150]\tvalidation_0-rmse:9.90998\n",
      "[180]\tvalidation_0-rmse:9.61752\n",
      "[210]\tvalidation_0-rmse:9.33376\n",
      "[240]\tvalidation_0-rmse:9.05849\n",
      "[270]\tvalidation_0-rmse:8.79131\n",
      "[300]\tvalidation_0-rmse:8.53202\n",
      "[330]\tvalidation_0-rmse:8.28047\n",
      "[360]\tvalidation_0-rmse:8.03622\n",
      "[390]\tvalidation_0-rmse:7.79920\n",
      "[420]\tvalidation_0-rmse:7.56937\n",
      "[450]\tvalidation_0-rmse:7.34622\n",
      "[480]\tvalidation_0-rmse:7.12975\n",
      "[510]\tvalidation_0-rmse:6.91955\n",
      "[540]\tvalidation_0-rmse:6.71561\n",
      "[570]\tvalidation_0-rmse:6.51780\n",
      "[600]\tvalidation_0-rmse:6.32574\n",
      "[630]\tvalidation_0-rmse:6.13943\n",
      "[660]\tvalidation_0-rmse:5.95869\n",
      "[690]\tvalidation_0-rmse:5.78338\n",
      "[720]\tvalidation_0-rmse:5.61325\n",
      "[750]\tvalidation_0-rmse:5.44826\n",
      "[780]\tvalidation_0-rmse:5.28811\n",
      "[810]\tvalidation_0-rmse:5.13282\n",
      "[840]\tvalidation_0-rmse:4.98202\n",
      "[870]\tvalidation_0-rmse:4.83579\n",
      "[900]\tvalidation_0-rmse:4.69381\n",
      "[930]\tvalidation_0-rmse:4.55610\n",
      "[960]\tvalidation_0-rmse:4.42237\n",
      "[990]\tvalidation_0-rmse:4.29265\n",
      "[1020]\tvalidation_0-rmse:4.16677\n",
      "[1050]\tvalidation_0-rmse:4.04471\n",
      "[1080]\tvalidation_0-rmse:3.92621\n",
      "[1110]\tvalidation_0-rmse:3.81121\n",
      "[1140]\tvalidation_0-rmse:3.69964\n",
      "[1170]\tvalidation_0-rmse:3.59129\n",
      "[1200]\tvalidation_0-rmse:3.48616\n",
      "[1230]\tvalidation_0-rmse:3.38420\n",
      "[1260]\tvalidation_0-rmse:3.28524\n",
      "[1290]\tvalidation_0-rmse:3.18927\n",
      "[1320]\tvalidation_0-rmse:3.09606\n",
      "[1350]\tvalidation_0-rmse:3.00576\n",
      "[1380]\tvalidation_0-rmse:2.91799\n",
      "[1410]\tvalidation_0-rmse:2.83292\n",
      "[1440]\tvalidation_0-rmse:2.75023\n",
      "[1470]\tvalidation_0-rmse:2.67000\n",
      "[1500]\tvalidation_0-rmse:2.59202\n",
      "[1530]\tvalidation_0-rmse:2.51660\n",
      "[1560]\tvalidation_0-rmse:2.44338\n",
      "[1590]\tvalidation_0-rmse:2.37225\n",
      "[1620]\tvalidation_0-rmse:2.30322\n",
      "[1650]\tvalidation_0-rmse:2.23619\n",
      "[1680]\tvalidation_0-rmse:2.17124\n",
      "[1710]\tvalidation_0-rmse:2.10811\n",
      "[1740]\tvalidation_0-rmse:2.04694\n",
      "[1770]\tvalidation_0-rmse:1.98753\n",
      "[1800]\tvalidation_0-rmse:1.92988\n",
      "[1830]\tvalidation_0-rmse:1.87384\n",
      "[1860]\tvalidation_0-rmse:1.81950\n",
      "[1890]\tvalidation_0-rmse:1.76679\n",
      "[1920]\tvalidation_0-rmse:1.71568\n",
      "[1950]\tvalidation_0-rmse:1.66612\n",
      "[1980]\tvalidation_0-rmse:1.61803\n",
      "[2010]\tvalidation_0-rmse:1.57136\n",
      "[2040]\tvalidation_0-rmse:1.52608\n",
      "[2070]\tvalidation_0-rmse:1.48209\n",
      "[2100]\tvalidation_0-rmse:1.43946\n",
      "[2130]\tvalidation_0-rmse:1.39812\n",
      "[2160]\tvalidation_0-rmse:1.35800\n",
      "[2190]\tvalidation_0-rmse:1.31898\n",
      "[2220]\tvalidation_0-rmse:1.28120\n",
      "[2250]\tvalidation_0-rmse:1.24455\n",
      "[2280]\tvalidation_0-rmse:1.20896\n",
      "[2310]\tvalidation_0-rmse:1.17446\n",
      "[2340]\tvalidation_0-rmse:1.14097\n",
      "[2370]\tvalidation_0-rmse:1.10848\n",
      "[2400]\tvalidation_0-rmse:1.07703\n",
      "[2430]\tvalidation_0-rmse:1.04651\n",
      "[2460]\tvalidation_0-rmse:1.01686\n",
      "[2490]\tvalidation_0-rmse:0.98814\n",
      "[2520]\tvalidation_0-rmse:0.96027\n",
      "[2550]\tvalidation_0-rmse:0.93317\n",
      "[2580]\tvalidation_0-rmse:0.90695\n",
      "[2610]\tvalidation_0-rmse:0.88155\n",
      "[2640]\tvalidation_0-rmse:0.85685\n",
      "[2670]\tvalidation_0-rmse:0.83291\n",
      "[2700]\tvalidation_0-rmse:0.80975\n",
      "[2730]\tvalidation_0-rmse:0.78722\n",
      "[2760]\tvalidation_0-rmse:0.76545\n",
      "[2790]\tvalidation_0-rmse:0.74425\n",
      "[2820]\tvalidation_0-rmse:0.72372\n",
      "[2850]\tvalidation_0-rmse:0.70378\n",
      "[2880]\tvalidation_0-rmse:0.68451\n",
      "[2910]\tvalidation_0-rmse:0.66582\n",
      "[2940]\tvalidation_0-rmse:0.64768\n",
      "[2970]\tvalidation_0-rmse:0.63015\n",
      "[3000]\tvalidation_0-rmse:0.61308\n",
      "[3030]\tvalidation_0-rmse:0.59655\n",
      "[3060]\tvalidation_0-rmse:0.58057\n",
      "[3090]\tvalidation_0-rmse:0.56502\n",
      "[3120]\tvalidation_0-rmse:0.54999\n",
      "[3150]\tvalidation_0-rmse:0.53542\n",
      "[3180]\tvalidation_0-rmse:0.52124\n",
      "[3210]\tvalidation_0-rmse:0.50754\n",
      "[3240]\tvalidation_0-rmse:0.49434\n",
      "[3270]\tvalidation_0-rmse:0.48151\n",
      "[3300]\tvalidation_0-rmse:0.46904\n",
      "[3330]\tvalidation_0-rmse:0.45700\n",
      "[3360]\tvalidation_0-rmse:0.44536\n",
      "[3390]\tvalidation_0-rmse:0.43405\n",
      "[3420]\tvalidation_0-rmse:0.42313\n",
      "[3450]\tvalidation_0-rmse:0.41253\n",
      "[3480]\tvalidation_0-rmse:0.40227\n",
      "[3510]\tvalidation_0-rmse:0.39236\n",
      "[3540]\tvalidation_0-rmse:0.38277\n",
      "[3570]\tvalidation_0-rmse:0.37348\n",
      "[3600]\tvalidation_0-rmse:0.36447\n",
      "[3630]\tvalidation_0-rmse:0.35575\n",
      "[3660]\tvalidation_0-rmse:0.34738\n",
      "[3690]\tvalidation_0-rmse:0.33923\n",
      "[3720]\tvalidation_0-rmse:0.33137\n",
      "[3750]\tvalidation_0-rmse:0.32381\n",
      "[3780]\tvalidation_0-rmse:0.31646\n",
      "[3810]\tvalidation_0-rmse:0.30935\n",
      "[3840]\tvalidation_0-rmse:0.30255\n",
      "[3870]\tvalidation_0-rmse:0.29590\n",
      "[3900]\tvalidation_0-rmse:0.28952\n",
      "[3930]\tvalidation_0-rmse:0.28340\n",
      "[3960]\tvalidation_0-rmse:0.27747\n",
      "[3990]\tvalidation_0-rmse:0.27177\n",
      "[4020]\tvalidation_0-rmse:0.26623\n",
      "[4050]\tvalidation_0-rmse:0.26087\n",
      "[4080]\tvalidation_0-rmse:0.25572\n",
      "[4110]\tvalidation_0-rmse:0.25076\n",
      "[4140]\tvalidation_0-rmse:0.24596\n",
      "[4170]\tvalidation_0-rmse:0.24135\n",
      "[4200]\tvalidation_0-rmse:0.23695\n",
      "[4230]\tvalidation_0-rmse:0.23266\n",
      "[4260]\tvalidation_0-rmse:0.22854\n",
      "[4290]\tvalidation_0-rmse:0.22455\n",
      "[4320]\tvalidation_0-rmse:0.22073\n",
      "[4350]\tvalidation_0-rmse:0.21704\n",
      "[4380]\tvalidation_0-rmse:0.21350\n",
      "[4410]\tvalidation_0-rmse:0.21008\n",
      "[4440]\tvalidation_0-rmse:0.20678\n",
      "[4470]\tvalidation_0-rmse:0.20366\n",
      "[4500]\tvalidation_0-rmse:0.20064\n",
      "[4530]\tvalidation_0-rmse:0.19778\n",
      "[4560]\tvalidation_0-rmse:0.19499\n",
      "[4590]\tvalidation_0-rmse:0.19233\n",
      "[4620]\tvalidation_0-rmse:0.18976\n",
      "[4650]\tvalidation_0-rmse:0.18724\n",
      "[4680]\tvalidation_0-rmse:0.18490\n",
      "[4710]\tvalidation_0-rmse:0.18261\n",
      "[4740]\tvalidation_0-rmse:0.18045\n",
      "[4770]\tvalidation_0-rmse:0.17840\n",
      "[4800]\tvalidation_0-rmse:0.17644\n",
      "[4830]\tvalidation_0-rmse:0.17450\n",
      "[4860]\tvalidation_0-rmse:0.17267\n",
      "[4890]\tvalidation_0-rmse:0.17091\n",
      "[4920]\tvalidation_0-rmse:0.16923\n",
      "[4950]\tvalidation_0-rmse:0.16765\n",
      "[4980]\tvalidation_0-rmse:0.16611\n",
      "[5010]\tvalidation_0-rmse:0.16465\n",
      "[5040]\tvalidation_0-rmse:0.16321\n",
      "[5070]\tvalidation_0-rmse:0.16183\n",
      "[5100]\tvalidation_0-rmse:0.16053\n",
      "[5130]\tvalidation_0-rmse:0.15930\n",
      "[5160]\tvalidation_0-rmse:0.15813\n",
      "[5190]\tvalidation_0-rmse:0.15696\n",
      "[5220]\tvalidation_0-rmse:0.15589\n",
      "[5250]\tvalidation_0-rmse:0.15488\n",
      "[5280]\tvalidation_0-rmse:0.15389\n",
      "[5310]\tvalidation_0-rmse:0.15292\n",
      "[5340]\tvalidation_0-rmse:0.15202\n",
      "[5370]\tvalidation_0-rmse:0.15115\n",
      "[5400]\tvalidation_0-rmse:0.15031\n",
      "[5430]\tvalidation_0-rmse:0.14952\n",
      "[5460]\tvalidation_0-rmse:0.14875\n",
      "[5490]\tvalidation_0-rmse:0.14805\n",
      "[5520]\tvalidation_0-rmse:0.14734\n",
      "[5550]\tvalidation_0-rmse:0.14668\n",
      "[5580]\tvalidation_0-rmse:0.14603\n",
      "[5610]\tvalidation_0-rmse:0.14540\n",
      "[5640]\tvalidation_0-rmse:0.14479\n",
      "[5670]\tvalidation_0-rmse:0.14425\n",
      "[5700]\tvalidation_0-rmse:0.14374\n",
      "[5730]\tvalidation_0-rmse:0.14322\n",
      "[5760]\tvalidation_0-rmse:0.14269\n",
      "[5790]\tvalidation_0-rmse:0.14221\n",
      "[5820]\tvalidation_0-rmse:0.14176\n",
      "[5850]\tvalidation_0-rmse:0.14132\n",
      "[5880]\tvalidation_0-rmse:0.14092\n",
      "[5910]\tvalidation_0-rmse:0.14055\n",
      "[5940]\tvalidation_0-rmse:0.14018\n",
      "[5970]\tvalidation_0-rmse:0.13983\n",
      "[6000]\tvalidation_0-rmse:0.13947\n",
      "[6030]\tvalidation_0-rmse:0.13915\n",
      "[6060]\tvalidation_0-rmse:0.13885\n",
      "[6090]\tvalidation_0-rmse:0.13854\n",
      "[6120]\tvalidation_0-rmse:0.13824\n",
      "[6150]\tvalidation_0-rmse:0.13797\n",
      "[6180]\tvalidation_0-rmse:0.13769\n",
      "[6210]\tvalidation_0-rmse:0.13742\n",
      "[6240]\tvalidation_0-rmse:0.13717\n",
      "[6270]\tvalidation_0-rmse:0.13693\n",
      "[6300]\tvalidation_0-rmse:0.13670\n",
      "[6330]\tvalidation_0-rmse:0.13647\n",
      "[6360]\tvalidation_0-rmse:0.13626\n",
      "[6390]\tvalidation_0-rmse:0.13605\n",
      "[6420]\tvalidation_0-rmse:0.13587\n",
      "[6450]\tvalidation_0-rmse:0.13569\n",
      "[6480]\tvalidation_0-rmse:0.13551\n",
      "[6510]\tvalidation_0-rmse:0.13535\n",
      "[6540]\tvalidation_0-rmse:0.13518\n",
      "[6570]\tvalidation_0-rmse:0.13502\n",
      "[6600]\tvalidation_0-rmse:0.13486\n",
      "[6630]\tvalidation_0-rmse:0.13471\n",
      "[6660]\tvalidation_0-rmse:0.13455\n",
      "[6690]\tvalidation_0-rmse:0.13443\n",
      "[6720]\tvalidation_0-rmse:0.13428\n",
      "[6750]\tvalidation_0-rmse:0.13417\n",
      "[6780]\tvalidation_0-rmse:0.13404\n",
      "[6810]\tvalidation_0-rmse:0.13390\n",
      "[6840]\tvalidation_0-rmse:0.13377\n",
      "[6870]\tvalidation_0-rmse:0.13368\n",
      "[6900]\tvalidation_0-rmse:0.13355\n",
      "[6930]\tvalidation_0-rmse:0.13345\n",
      "[6960]\tvalidation_0-rmse:0.13334\n",
      "[6990]\tvalidation_0-rmse:0.13325\n",
      "[7020]\tvalidation_0-rmse:0.13314\n",
      "[7050]\tvalidation_0-rmse:0.13304\n",
      "[7080]\tvalidation_0-rmse:0.13297\n",
      "[7110]\tvalidation_0-rmse:0.13288\n",
      "[7140]\tvalidation_0-rmse:0.13281\n",
      "[7170]\tvalidation_0-rmse:0.13273\n",
      "[7200]\tvalidation_0-rmse:0.13265\n",
      "[7230]\tvalidation_0-rmse:0.13258\n",
      "[7260]\tvalidation_0-rmse:0.13251\n",
      "[7290]\tvalidation_0-rmse:0.13242\n",
      "[7320]\tvalidation_0-rmse:0.13234\n",
      "[7350]\tvalidation_0-rmse:0.13227\n",
      "[7380]\tvalidation_0-rmse:0.13220\n",
      "[7410]\tvalidation_0-rmse:0.13215\n",
      "[7440]\tvalidation_0-rmse:0.13208\n",
      "[7470]\tvalidation_0-rmse:0.13202\n",
      "[7500]\tvalidation_0-rmse:0.13197\n",
      "[7530]\tvalidation_0-rmse:0.13192\n",
      "[7560]\tvalidation_0-rmse:0.13188\n",
      "[7590]\tvalidation_0-rmse:0.13183\n",
      "[7620]\tvalidation_0-rmse:0.13178\n",
      "[7650]\tvalidation_0-rmse:0.13174\n",
      "[7680]\tvalidation_0-rmse:0.13167\n",
      "[7710]\tvalidation_0-rmse:0.13163\n",
      "[7740]\tvalidation_0-rmse:0.13159\n",
      "[7770]\tvalidation_0-rmse:0.13154\n",
      "[7800]\tvalidation_0-rmse:0.13149\n",
      "[7830]\tvalidation_0-rmse:0.13144\n",
      "[7860]\tvalidation_0-rmse:0.13139\n",
      "[7890]\tvalidation_0-rmse:0.13134\n",
      "[7920]\tvalidation_0-rmse:0.13130\n",
      "[7950]\tvalidation_0-rmse:0.13126\n",
      "[7980]\tvalidation_0-rmse:0.13122\n",
      "[8010]\tvalidation_0-rmse:0.13117\n",
      "[8040]\tvalidation_0-rmse:0.13112\n",
      "[8070]\tvalidation_0-rmse:0.13109\n",
      "[8100]\tvalidation_0-rmse:0.13106\n",
      "[8130]\tvalidation_0-rmse:0.13102\n",
      "[8160]\tvalidation_0-rmse:0.13098\n",
      "[8190]\tvalidation_0-rmse:0.13095\n",
      "[8220]\tvalidation_0-rmse:0.13091\n",
      "[8250]\tvalidation_0-rmse:0.13088\n",
      "[8280]\tvalidation_0-rmse:0.13084\n",
      "[8310]\tvalidation_0-rmse:0.13080\n",
      "[8340]\tvalidation_0-rmse:0.13077\n",
      "[8370]\tvalidation_0-rmse:0.13074\n",
      "[8400]\tvalidation_0-rmse:0.13071\n",
      "[8430]\tvalidation_0-rmse:0.13067\n",
      "[8460]\tvalidation_0-rmse:0.13064\n",
      "[8490]\tvalidation_0-rmse:0.13062\n",
      "[8520]\tvalidation_0-rmse:0.13059\n",
      "[8550]\tvalidation_0-rmse:0.13058\n",
      "[8580]\tvalidation_0-rmse:0.13056\n",
      "[8610]\tvalidation_0-rmse:0.13056\n",
      "[8640]\tvalidation_0-rmse:0.13054\n",
      "[8670]\tvalidation_0-rmse:0.13052\n",
      "[8700]\tvalidation_0-rmse:0.13050\n",
      "[8730]\tvalidation_0-rmse:0.13047\n",
      "[8760]\tvalidation_0-rmse:0.13044\n",
      "[8790]\tvalidation_0-rmse:0.13043\n",
      "[8820]\tvalidation_0-rmse:0.13040\n",
      "[8850]\tvalidation_0-rmse:0.13039\n",
      "[8880]\tvalidation_0-rmse:0.13037\n",
      "[8910]\tvalidation_0-rmse:0.13035\n",
      "[8940]\tvalidation_0-rmse:0.13032\n",
      "[8970]\tvalidation_0-rmse:0.13030\n",
      "[9000]\tvalidation_0-rmse:0.13027\n",
      "[9030]\tvalidation_0-rmse:0.13025\n",
      "[9060]\tvalidation_0-rmse:0.13024\n",
      "[9090]\tvalidation_0-rmse:0.13022\n",
      "[9120]\tvalidation_0-rmse:0.13020\n",
      "[9150]\tvalidation_0-rmse:0.13017\n",
      "[9180]\tvalidation_0-rmse:0.13015\n",
      "[9210]\tvalidation_0-rmse:0.13014\n",
      "[9240]\tvalidation_0-rmse:0.13012\n",
      "[9270]\tvalidation_0-rmse:0.13010\n",
      "[9300]\tvalidation_0-rmse:0.13009\n",
      "[9330]\tvalidation_0-rmse:0.13008\n",
      "[9360]\tvalidation_0-rmse:0.13006\n",
      "[9390]\tvalidation_0-rmse:0.13005\n",
      "[9420]\tvalidation_0-rmse:0.13004\n",
      "[9450]\tvalidation_0-rmse:0.13003\n",
      "[9480]\tvalidation_0-rmse:0.13000\n",
      "[9510]\tvalidation_0-rmse:0.12999\n",
      "[9540]\tvalidation_0-rmse:0.12997\n",
      "[9570]\tvalidation_0-rmse:0.12995\n",
      "[9600]\tvalidation_0-rmse:0.12993\n",
      "[9630]\tvalidation_0-rmse:0.12991\n",
      "[9660]\tvalidation_0-rmse:0.12990\n",
      "[9690]\tvalidation_0-rmse:0.12989\n",
      "[9720]\tvalidation_0-rmse:0.12987\n",
      "[9750]\tvalidation_0-rmse:0.12986\n",
      "[9780]\tvalidation_0-rmse:0.12985\n",
      "[9810]\tvalidation_0-rmse:0.12984\n",
      "[9840]\tvalidation_0-rmse:0.12983\n",
      "[9870]\tvalidation_0-rmse:0.12983\n",
      "[9900]\tvalidation_0-rmse:0.12981\n",
      "[9930]\tvalidation_0-rmse:0.12981\n",
      "[9960]\tvalidation_0-rmse:0.12979\n",
      "[9990]\tvalidation_0-rmse:0.12977\n",
      "[10020]\tvalidation_0-rmse:0.12977\n",
      "[10050]\tvalidation_0-rmse:0.12976\n",
      "[10080]\tvalidation_0-rmse:0.12975\n",
      "[10110]\tvalidation_0-rmse:0.12974\n",
      "[10140]\tvalidation_0-rmse:0.12972\n",
      "[10170]\tvalidation_0-rmse:0.12972\n",
      "[10200]\tvalidation_0-rmse:0.12970\n",
      "[10230]\tvalidation_0-rmse:0.12969\n",
      "[10260]\tvalidation_0-rmse:0.12967\n",
      "[10290]\tvalidation_0-rmse:0.12966\n",
      "[10320]\tvalidation_0-rmse:0.12965\n",
      "[10350]\tvalidation_0-rmse:0.12964\n",
      "[10380]\tvalidation_0-rmse:0.12963\n",
      "[10410]\tvalidation_0-rmse:0.12962\n",
      "[10440]\tvalidation_0-rmse:0.12962\n",
      "[10470]\tvalidation_0-rmse:0.12961\n",
      "[10500]\tvalidation_0-rmse:0.12960\n",
      "[10530]\tvalidation_0-rmse:0.12959\n",
      "[10560]\tvalidation_0-rmse:0.12958\n",
      "[10590]\tvalidation_0-rmse:0.12957\n",
      "[10620]\tvalidation_0-rmse:0.12956\n",
      "[10650]\tvalidation_0-rmse:0.12954\n",
      "[10680]\tvalidation_0-rmse:0.12953\n",
      "[10710]\tvalidation_0-rmse:0.12953\n",
      "[10740]\tvalidation_0-rmse:0.12952\n",
      "[10770]\tvalidation_0-rmse:0.12951\n",
      "[10800]\tvalidation_0-rmse:0.12951\n",
      "[10830]\tvalidation_0-rmse:0.12950\n",
      "[10860]\tvalidation_0-rmse:0.12949\n",
      "[10890]\tvalidation_0-rmse:0.12949\n",
      "[10920]\tvalidation_0-rmse:0.12948\n",
      "[10950]\tvalidation_0-rmse:0.12948\n",
      "[10980]\tvalidation_0-rmse:0.12947\n",
      "[11010]\tvalidation_0-rmse:0.12947\n",
      "[11040]\tvalidation_0-rmse:0.12947\n",
      "[11045]\tvalidation_0-rmse:0.12947\n"
     ]
    },
    {
     "data": {
      "text/plain": "XGBRegressor(alpha=0.001, base_score=0.5, booster='gbtree', callbacks=None,\n             colsample_bylevel=1, colsample_bynode=1, colsample_bytree=0.6,\n             early_stopping_rounds=None, enable_categorical=False, eta=0.001,\n             eval_metric='rmse', feature_types=None, gamma=0, gpu_id=-1,\n             grow_policy='depthwise', importance_type=None,\n             interaction_constraints='', learning_rate=0.00100000005,\n             max_bin=256, max_cat_threshold=64, max_cat_to_onehot=4,\n             max_delta_step=0, max_depth=10, max_leaves=0, min_child_weight=1,\n             missing=nan, monotone_constraints='()', n_estimators=15000,\n             n_jobs=-1, num_parallel_tree=1, ...)",
      "text/html": "<style>#sk-container-id-10 {color: black;background-color: white;}#sk-container-id-10 pre{padding: 0;}#sk-container-id-10 div.sk-toggleable {background-color: white;}#sk-container-id-10 label.sk-toggleable__label {cursor: pointer;display: block;width: 100%;margin-bottom: 0;padding: 0.3em;box-sizing: border-box;text-align: center;}#sk-container-id-10 label.sk-toggleable__label-arrow:before {content: \"▸\";float: left;margin-right: 0.25em;color: #696969;}#sk-container-id-10 label.sk-toggleable__label-arrow:hover:before {color: black;}#sk-container-id-10 div.sk-estimator:hover label.sk-toggleable__label-arrow:before {color: black;}#sk-container-id-10 div.sk-toggleable__content {max-height: 0;max-width: 0;overflow: hidden;text-align: left;background-color: #f0f8ff;}#sk-container-id-10 div.sk-toggleable__content pre {margin: 0.2em;color: black;border-radius: 0.25em;background-color: #f0f8ff;}#sk-container-id-10 input.sk-toggleable__control:checked~div.sk-toggleable__content {max-height: 200px;max-width: 100%;overflow: auto;}#sk-container-id-10 input.sk-toggleable__control:checked~label.sk-toggleable__label-arrow:before {content: \"▾\";}#sk-container-id-10 div.sk-estimator input.sk-toggleable__control:checked~label.sk-toggleable__label {background-color: #d4ebff;}#sk-container-id-10 div.sk-label input.sk-toggleable__control:checked~label.sk-toggleable__label {background-color: #d4ebff;}#sk-container-id-10 input.sk-hidden--visually {border: 0;clip: rect(1px 1px 1px 1px);clip: rect(1px, 1px, 1px, 1px);height: 1px;margin: -1px;overflow: hidden;padding: 0;position: absolute;width: 1px;}#sk-container-id-10 div.sk-estimator {font-family: monospace;background-color: #f0f8ff;border: 1px dotted black;border-radius: 0.25em;box-sizing: border-box;margin-bottom: 0.5em;}#sk-container-id-10 div.sk-estimator:hover {background-color: #d4ebff;}#sk-container-id-10 div.sk-parallel-item::after {content: \"\";width: 100%;border-bottom: 1px solid gray;flex-grow: 1;}#sk-container-id-10 div.sk-label:hover label.sk-toggleable__label {background-color: #d4ebff;}#sk-container-id-10 div.sk-serial::before {content: \"\";position: absolute;border-left: 1px solid gray;box-sizing: border-box;top: 0;bottom: 0;left: 50%;z-index: 0;}#sk-container-id-10 div.sk-serial {display: flex;flex-direction: column;align-items: center;background-color: white;padding-right: 0.2em;padding-left: 0.2em;position: relative;}#sk-container-id-10 div.sk-item {position: relative;z-index: 1;}#sk-container-id-10 div.sk-parallel {display: flex;align-items: stretch;justify-content: center;background-color: white;position: relative;}#sk-container-id-10 div.sk-item::before, #sk-container-id-10 div.sk-parallel-item::before {content: \"\";position: absolute;border-left: 1px solid gray;box-sizing: border-box;top: 0;bottom: 0;left: 50%;z-index: -1;}#sk-container-id-10 div.sk-parallel-item {display: flex;flex-direction: column;z-index: 1;position: relative;background-color: white;}#sk-container-id-10 div.sk-parallel-item:first-child::after {align-self: flex-end;width: 50%;}#sk-container-id-10 div.sk-parallel-item:last-child::after {align-self: flex-start;width: 50%;}#sk-container-id-10 div.sk-parallel-item:only-child::after {width: 0;}#sk-container-id-10 div.sk-dashed-wrapped {border: 1px dashed gray;margin: 0 0.4em 0.5em 0.4em;box-sizing: border-box;padding-bottom: 0.4em;background-color: white;}#sk-container-id-10 div.sk-label label {font-family: monospace;font-weight: bold;display: inline-block;line-height: 1.2em;}#sk-container-id-10 div.sk-label-container {text-align: center;}#sk-container-id-10 div.sk-container {/* jupyter's `normalize.less` sets `[hidden] { display: none; }` but bootstrap.min.css set `[hidden] { display: none !important; }` so we also need the `!important` here to be able to override the default hidden behavior on the sphinx rendered scikit-learn.org. See: https://github.com/scikit-learn/scikit-learn/issues/21755 */display: inline-block !important;position: relative;}#sk-container-id-10 div.sk-text-repr-fallback {display: none;}</style><div id=\"sk-container-id-10\" class=\"sk-top-container\"><div class=\"sk-text-repr-fallback\"><pre>XGBRegressor(alpha=0.001, base_score=0.5, booster=&#x27;gbtree&#x27;, callbacks=None,\n             colsample_bylevel=1, colsample_bynode=1, colsample_bytree=0.6,\n             early_stopping_rounds=None, enable_categorical=False, eta=0.001,\n             eval_metric=&#x27;rmse&#x27;, feature_types=None, gamma=0, gpu_id=-1,\n             grow_policy=&#x27;depthwise&#x27;, importance_type=None,\n             interaction_constraints=&#x27;&#x27;, learning_rate=0.00100000005,\n             max_bin=256, max_cat_threshold=64, max_cat_to_onehot=4,\n             max_delta_step=0, max_depth=10, max_leaves=0, min_child_weight=1,\n             missing=nan, monotone_constraints=&#x27;()&#x27;, n_estimators=15000,\n             n_jobs=-1, num_parallel_tree=1, ...)</pre><b>In a Jupyter environment, please rerun this cell to show the HTML representation or trust the notebook. <br />On GitHub, the HTML representation is unable to render, please try loading this page with nbviewer.org.</b></div><div class=\"sk-container\" hidden><div class=\"sk-item\"><div class=\"sk-estimator sk-toggleable\"><input class=\"sk-toggleable__control sk-hidden--visually\" id=\"sk-estimator-id-10\" type=\"checkbox\" checked><label for=\"sk-estimator-id-10\" class=\"sk-toggleable__label sk-toggleable__label-arrow\">XGBRegressor</label><div class=\"sk-toggleable__content\"><pre>XGBRegressor(alpha=0.001, base_score=0.5, booster=&#x27;gbtree&#x27;, callbacks=None,\n             colsample_bylevel=1, colsample_bynode=1, colsample_bytree=0.6,\n             early_stopping_rounds=None, enable_categorical=False, eta=0.001,\n             eval_metric=&#x27;rmse&#x27;, feature_types=None, gamma=0, gpu_id=-1,\n             grow_policy=&#x27;depthwise&#x27;, importance_type=None,\n             interaction_constraints=&#x27;&#x27;, learning_rate=0.00100000005,\n             max_bin=256, max_cat_threshold=64, max_cat_to_onehot=4,\n             max_delta_step=0, max_depth=10, max_leaves=0, min_child_weight=1,\n             missing=nan, monotone_constraints=&#x27;()&#x27;, n_estimators=15000,\n             n_jobs=-1, num_parallel_tree=1, ...)</pre></div></div></div></div></div>"
     },
     "execution_count": 387,
     "metadata": {},
     "output_type": "execute_result"
    }
   ],
   "source": [
    "xgb.fit(X_train, y_train, eval_set=[(X_test, y_test)], early_stopping_rounds=50, verbose=30)"
   ],
   "metadata": {
    "collapsed": false
   }
  },
  {
   "cell_type": "code",
   "execution_count": 343,
   "outputs": [],
   "source": [
    "lgb = LGBMRegressor(objective='regression', num_leaves=100, learning_rate=0.001, bagging_fraction=0.6,\n",
    "                    feature_fraction=0.6, bagging_frequency=6, bagging_seed=42, verbosity=-1, random_state=17,\n",
    "                    n_jobs=-1, metric='rmse', n_estimators=15000, seed=42)"
   ],
   "metadata": {
    "collapsed": false
   }
  },
  {
   "cell_type": "code",
   "execution_count": 344,
   "outputs": [
    {
     "name": "stdout",
     "output_type": "stream",
     "text": [
      "[LightGBM] [Warning] Unknown parameter: bagging_frequency\n",
      "[LightGBM] [Warning] seed is set=42, random_state=17 will be ignored. Current value: seed=42\n",
      "[LightGBM] [Warning] feature_fraction is set=0.6, colsample_bytree=1.0 will be ignored. Current value: feature_fraction=0.6\n",
      "[LightGBM] [Warning] bagging_fraction is set=0.6, subsample=1.0 will be ignored. Current value: bagging_fraction=0.6\n",
      "[150]\tvalid_0's rmse: 0.369639\n",
      "[300]\tvalid_0's rmse: 0.332686\n",
      "[450]\tvalid_0's rmse: 0.301476\n",
      "[600]\tvalid_0's rmse: 0.275055\n",
      "[750]\tvalid_0's rmse: 0.252825\n",
      "[900]\tvalid_0's rmse: 0.234368\n",
      "[1050]\tvalid_0's rmse: 0.218897\n",
      "[1200]\tvalid_0's rmse: 0.205961\n",
      "[1350]\tvalid_0's rmse: 0.195186\n",
      "[1500]\tvalid_0's rmse: 0.186091\n",
      "[1650]\tvalid_0's rmse: 0.178433\n",
      "[1800]\tvalid_0's rmse: 0.172145\n",
      "[1950]\tvalid_0's rmse: 0.166898\n",
      "[2100]\tvalid_0's rmse: 0.162457\n",
      "[2250]\tvalid_0's rmse: 0.15883\n",
      "[2400]\tvalid_0's rmse: 0.155707\n",
      "[2550]\tvalid_0's rmse: 0.153096\n",
      "[2700]\tvalid_0's rmse: 0.150682\n",
      "[2850]\tvalid_0's rmse: 0.148713\n",
      "[3000]\tvalid_0's rmse: 0.14708\n",
      "[3150]\tvalid_0's rmse: 0.145629\n",
      "[3300]\tvalid_0's rmse: 0.144412\n",
      "[3450]\tvalid_0's rmse: 0.143419\n",
      "[3600]\tvalid_0's rmse: 0.142588\n",
      "[3750]\tvalid_0's rmse: 0.141886\n",
      "[3900]\tvalid_0's rmse: 0.141325\n",
      "[4050]\tvalid_0's rmse: 0.140851\n",
      "[4200]\tvalid_0's rmse: 0.140461\n",
      "[4350]\tvalid_0's rmse: 0.140106\n",
      "[4500]\tvalid_0's rmse: 0.13984\n",
      "[4650]\tvalid_0's rmse: 0.139621\n",
      "[4800]\tvalid_0's rmse: 0.139423\n",
      "[4950]\tvalid_0's rmse: 0.139257\n",
      "[5100]\tvalid_0's rmse: 0.139106\n",
      "[5250]\tvalid_0's rmse: 0.138978\n",
      "[5400]\tvalid_0's rmse: 0.138851\n",
      "[5550]\tvalid_0's rmse: 0.138748\n",
      "[5700]\tvalid_0's rmse: 0.138684\n",
      "[5850]\tvalid_0's rmse: 0.138585\n",
      "[6000]\tvalid_0's rmse: 0.138504\n",
      "[6150]\tvalid_0's rmse: 0.138412\n",
      "[6300]\tvalid_0's rmse: 0.138355\n",
      "[6450]\tvalid_0's rmse: 0.13829\n",
      "[6600]\tvalid_0's rmse: 0.138225\n",
      "[6750]\tvalid_0's rmse: 0.138149\n",
      "[6900]\tvalid_0's rmse: 0.138099\n"
     ]
    },
    {
     "data": {
      "text/plain": "LGBMRegressor(bagging_fraction=0.6, bagging_frequency=6, bagging_seed=42,\n              feature_fraction=0.6, learning_rate=0.001, metric='rmse',\n              n_estimators=15000, num_leaves=100, objective='regression',\n              random_state=17, seed=42, verbosity=-1)",
      "text/html": "<style>#sk-container-id-9 {color: black;background-color: white;}#sk-container-id-9 pre{padding: 0;}#sk-container-id-9 div.sk-toggleable {background-color: white;}#sk-container-id-9 label.sk-toggleable__label {cursor: pointer;display: block;width: 100%;margin-bottom: 0;padding: 0.3em;box-sizing: border-box;text-align: center;}#sk-container-id-9 label.sk-toggleable__label-arrow:before {content: \"▸\";float: left;margin-right: 0.25em;color: #696969;}#sk-container-id-9 label.sk-toggleable__label-arrow:hover:before {color: black;}#sk-container-id-9 div.sk-estimator:hover label.sk-toggleable__label-arrow:before {color: black;}#sk-container-id-9 div.sk-toggleable__content {max-height: 0;max-width: 0;overflow: hidden;text-align: left;background-color: #f0f8ff;}#sk-container-id-9 div.sk-toggleable__content pre {margin: 0.2em;color: black;border-radius: 0.25em;background-color: #f0f8ff;}#sk-container-id-9 input.sk-toggleable__control:checked~div.sk-toggleable__content {max-height: 200px;max-width: 100%;overflow: auto;}#sk-container-id-9 input.sk-toggleable__control:checked~label.sk-toggleable__label-arrow:before {content: \"▾\";}#sk-container-id-9 div.sk-estimator input.sk-toggleable__control:checked~label.sk-toggleable__label {background-color: #d4ebff;}#sk-container-id-9 div.sk-label input.sk-toggleable__control:checked~label.sk-toggleable__label {background-color: #d4ebff;}#sk-container-id-9 input.sk-hidden--visually {border: 0;clip: rect(1px 1px 1px 1px);clip: rect(1px, 1px, 1px, 1px);height: 1px;margin: -1px;overflow: hidden;padding: 0;position: absolute;width: 1px;}#sk-container-id-9 div.sk-estimator {font-family: monospace;background-color: #f0f8ff;border: 1px dotted black;border-radius: 0.25em;box-sizing: border-box;margin-bottom: 0.5em;}#sk-container-id-9 div.sk-estimator:hover {background-color: #d4ebff;}#sk-container-id-9 div.sk-parallel-item::after {content: \"\";width: 100%;border-bottom: 1px solid gray;flex-grow: 1;}#sk-container-id-9 div.sk-label:hover label.sk-toggleable__label {background-color: #d4ebff;}#sk-container-id-9 div.sk-serial::before {content: \"\";position: absolute;border-left: 1px solid gray;box-sizing: border-box;top: 0;bottom: 0;left: 50%;z-index: 0;}#sk-container-id-9 div.sk-serial {display: flex;flex-direction: column;align-items: center;background-color: white;padding-right: 0.2em;padding-left: 0.2em;position: relative;}#sk-container-id-9 div.sk-item {position: relative;z-index: 1;}#sk-container-id-9 div.sk-parallel {display: flex;align-items: stretch;justify-content: center;background-color: white;position: relative;}#sk-container-id-9 div.sk-item::before, #sk-container-id-9 div.sk-parallel-item::before {content: \"\";position: absolute;border-left: 1px solid gray;box-sizing: border-box;top: 0;bottom: 0;left: 50%;z-index: -1;}#sk-container-id-9 div.sk-parallel-item {display: flex;flex-direction: column;z-index: 1;position: relative;background-color: white;}#sk-container-id-9 div.sk-parallel-item:first-child::after {align-self: flex-end;width: 50%;}#sk-container-id-9 div.sk-parallel-item:last-child::after {align-self: flex-start;width: 50%;}#sk-container-id-9 div.sk-parallel-item:only-child::after {width: 0;}#sk-container-id-9 div.sk-dashed-wrapped {border: 1px dashed gray;margin: 0 0.4em 0.5em 0.4em;box-sizing: border-box;padding-bottom: 0.4em;background-color: white;}#sk-container-id-9 div.sk-label label {font-family: monospace;font-weight: bold;display: inline-block;line-height: 1.2em;}#sk-container-id-9 div.sk-label-container {text-align: center;}#sk-container-id-9 div.sk-container {/* jupyter's `normalize.less` sets `[hidden] { display: none; }` but bootstrap.min.css set `[hidden] { display: none !important; }` so we also need the `!important` here to be able to override the default hidden behavior on the sphinx rendered scikit-learn.org. See: https://github.com/scikit-learn/scikit-learn/issues/21755 */display: inline-block !important;position: relative;}#sk-container-id-9 div.sk-text-repr-fallback {display: none;}</style><div id=\"sk-container-id-9\" class=\"sk-top-container\"><div class=\"sk-text-repr-fallback\"><pre>LGBMRegressor(bagging_fraction=0.6, bagging_frequency=6, bagging_seed=42,\n              feature_fraction=0.6, learning_rate=0.001, metric=&#x27;rmse&#x27;,\n              n_estimators=15000, num_leaves=100, objective=&#x27;regression&#x27;,\n              random_state=17, seed=42, verbosity=-1)</pre><b>In a Jupyter environment, please rerun this cell to show the HTML representation or trust the notebook. <br />On GitHub, the HTML representation is unable to render, please try loading this page with nbviewer.org.</b></div><div class=\"sk-container\" hidden><div class=\"sk-item\"><div class=\"sk-estimator sk-toggleable\"><input class=\"sk-toggleable__control sk-hidden--visually\" id=\"sk-estimator-id-9\" type=\"checkbox\" checked><label for=\"sk-estimator-id-9\" class=\"sk-toggleable__label sk-toggleable__label-arrow\">LGBMRegressor</label><div class=\"sk-toggleable__content\"><pre>LGBMRegressor(bagging_fraction=0.6, bagging_frequency=6, bagging_seed=42,\n              feature_fraction=0.6, learning_rate=0.001, metric=&#x27;rmse&#x27;,\n              n_estimators=15000, num_leaves=100, objective=&#x27;regression&#x27;,\n              random_state=17, seed=42, verbosity=-1)</pre></div></div></div></div></div>"
     },
     "execution_count": 344,
     "metadata": {},
     "output_type": "execute_result"
    }
   ],
   "source": [
    "lgb.fit(X_train, y_train, eval_metric='rmse', eval_set=[(X_test, y_test)], early_stopping_rounds=100,\n",
    "        verbose=150)"
   ],
   "metadata": {
    "collapsed": false
   }
  },
  {
   "cell_type": "code",
   "execution_count": 345,
   "outputs": [],
   "source": [
    "cat = CatBoostRegressor(iterations=5000,\n",
    "                        learning_rate=0.003,\n",
    "                        depth=9,\n",
    "                        eval_metric='RMSE',\n",
    "                        random_seed=42,\n",
    "                        bagging_temperature=0.3,\n",
    "                        od_type='Iter',\n",
    "                        metric_period=50,\n",
    "                        od_wait=20)"
   ],
   "metadata": {
    "collapsed": false
   }
  },
  {
   "cell_type": "code",
   "execution_count": 346,
   "outputs": [
    {
     "name": "stderr",
     "output_type": "stream",
     "text": [
      "Warning: Overfitting detector is active, thus evaluation metric is calculated on every iteration. 'metric_period' is ignored for evaluation metric.\n"
     ]
    },
    {
     "name": "stdout",
     "output_type": "stream",
     "text": [
      "0:\tlearn: 0.3916359\ttest: 0.4122661\tbest: 0.4122661 (0)\ttotal: 33.8ms\tremaining: 2m 48s\n",
      "50:\tlearn: 0.3577931\ttest: 0.3786693\tbest: 0.3786693 (50)\ttotal: 970ms\tremaining: 1m 34s\n",
      "100:\tlearn: 0.3281194\ttest: 0.3492186\tbest: 0.3492186 (100)\ttotal: 1.92s\tremaining: 1m 32s\n",
      "150:\tlearn: 0.3022510\ttest: 0.3238869\tbest: 0.3238869 (150)\ttotal: 2.9s\tremaining: 1m 33s\n",
      "200:\tlearn: 0.2794279\ttest: 0.3016339\tbest: 0.3016339 (200)\ttotal: 3.88s\tremaining: 1m 32s\n",
      "250:\tlearn: 0.2594732\ttest: 0.2821175\tbest: 0.2821175 (250)\ttotal: 4.8s\tremaining: 1m 30s\n",
      "300:\tlearn: 0.2418744\ttest: 0.2652476\tbest: 0.2652476 (300)\ttotal: 5.68s\tremaining: 1m 28s\n",
      "350:\tlearn: 0.2262440\ttest: 0.2504894\tbest: 0.2504894 (350)\ttotal: 6.57s\tremaining: 1m 26s\n",
      "400:\tlearn: 0.2126443\ttest: 0.2376979\tbest: 0.2376979 (400)\ttotal: 7.4s\tremaining: 1m 24s\n",
      "450:\tlearn: 0.2005607\ttest: 0.2267525\tbest: 0.2267525 (450)\ttotal: 8.27s\tremaining: 1m 23s\n",
      "500:\tlearn: 0.1899424\ttest: 0.2173385\tbest: 0.2173385 (500)\ttotal: 9.08s\tremaining: 1m 21s\n",
      "550:\tlearn: 0.1804756\ttest: 0.2090257\tbest: 0.2090257 (550)\ttotal: 9.92s\tremaining: 1m 20s\n",
      "600:\tlearn: 0.1720940\ttest: 0.2016735\tbest: 0.2016735 (600)\ttotal: 10.8s\tremaining: 1m 18s\n",
      "650:\tlearn: 0.1646435\ttest: 0.1952792\tbest: 0.1952792 (650)\ttotal: 11.6s\tremaining: 1m 17s\n",
      "700:\tlearn: 0.1580132\ttest: 0.1898679\tbest: 0.1898679 (700)\ttotal: 12.4s\tremaining: 1m 16s\n",
      "750:\tlearn: 0.1521791\ttest: 0.1852311\tbest: 0.1852311 (750)\ttotal: 13.3s\tremaining: 1m 15s\n",
      "800:\tlearn: 0.1467969\ttest: 0.1809906\tbest: 0.1809906 (800)\ttotal: 14.1s\tremaining: 1m 14s\n",
      "850:\tlearn: 0.1418397\ttest: 0.1773070\tbest: 0.1773070 (850)\ttotal: 15s\tremaining: 1m 12s\n",
      "900:\tlearn: 0.1373482\ttest: 0.1739656\tbest: 0.1739656 (900)\ttotal: 16s\tremaining: 1m 13s\n",
      "950:\tlearn: 0.1333059\ttest: 0.1709881\tbest: 0.1709881 (950)\ttotal: 17.4s\tremaining: 1m 14s\n",
      "1000:\tlearn: 0.1294690\ttest: 0.1683303\tbest: 0.1683303 (1000)\ttotal: 18.3s\tremaining: 1m 13s\n",
      "1050:\tlearn: 0.1259319\ttest: 0.1658617\tbest: 0.1658617 (1050)\ttotal: 19.2s\tremaining: 1m 12s\n",
      "1100:\tlearn: 0.1227544\ttest: 0.1636883\tbest: 0.1636883 (1100)\ttotal: 20.1s\tremaining: 1m 11s\n",
      "1150:\tlearn: 0.1197713\ttest: 0.1617103\tbest: 0.1617103 (1150)\ttotal: 20.9s\tremaining: 1m 9s\n",
      "1200:\tlearn: 0.1170648\ttest: 0.1600028\tbest: 0.1600028 (1200)\ttotal: 21.7s\tremaining: 1m 8s\n",
      "1250:\tlearn: 0.1145259\ttest: 0.1583976\tbest: 0.1583976 (1250)\ttotal: 22.6s\tremaining: 1m 7s\n",
      "1300:\tlearn: 0.1121614\ttest: 0.1568197\tbest: 0.1568197 (1300)\ttotal: 23.4s\tremaining: 1m 6s\n",
      "1350:\tlearn: 0.1099892\ttest: 0.1555056\tbest: 0.1555056 (1350)\ttotal: 24.2s\tremaining: 1m 5s\n",
      "1400:\tlearn: 0.1079073\ttest: 0.1542274\tbest: 0.1542274 (1400)\ttotal: 25.1s\tremaining: 1m 4s\n",
      "1450:\tlearn: 0.1059331\ttest: 0.1531836\tbest: 0.1531836 (1450)\ttotal: 25.9s\tremaining: 1m 3s\n",
      "1500:\tlearn: 0.1040498\ttest: 0.1521301\tbest: 0.1521301 (1500)\ttotal: 26.7s\tremaining: 1m 2s\n",
      "1550:\tlearn: 0.1022727\ttest: 0.1511882\tbest: 0.1511882 (1550)\ttotal: 27.5s\tremaining: 1m 1s\n",
      "1600:\tlearn: 0.1005733\ttest: 0.1503430\tbest: 0.1503430 (1600)\ttotal: 28.3s\tremaining: 1m\n",
      "1650:\tlearn: 0.0989831\ttest: 0.1495269\tbest: 0.1495269 (1650)\ttotal: 29.1s\tremaining: 59.1s\n",
      "1700:\tlearn: 0.0974404\ttest: 0.1487648\tbest: 0.1487648 (1700)\ttotal: 29.9s\tremaining: 58.1s\n",
      "1750:\tlearn: 0.0959126\ttest: 0.1480193\tbest: 0.1480193 (1750)\ttotal: 30.8s\tremaining: 57.1s\n",
      "1800:\tlearn: 0.0945306\ttest: 0.1472953\tbest: 0.1472953 (1800)\ttotal: 31.6s\tremaining: 56.1s\n",
      "1850:\tlearn: 0.0932058\ttest: 0.1466212\tbest: 0.1466212 (1850)\ttotal: 32.4s\tremaining: 55.1s\n",
      "1900:\tlearn: 0.0919195\ttest: 0.1460396\tbest: 0.1460396 (1900)\ttotal: 33.2s\tremaining: 54.1s\n",
      "1950:\tlearn: 0.0906240\ttest: 0.1454399\tbest: 0.1454399 (1950)\ttotal: 34s\tremaining: 53.2s\n",
      "2000:\tlearn: 0.0894171\ttest: 0.1449605\tbest: 0.1449605 (2000)\ttotal: 34.9s\tremaining: 52.3s\n",
      "2050:\tlearn: 0.0882476\ttest: 0.1445009\tbest: 0.1445009 (2050)\ttotal: 35.7s\tremaining: 51.3s\n",
      "2100:\tlearn: 0.0870960\ttest: 0.1440279\tbest: 0.1440279 (2100)\ttotal: 36.5s\tremaining: 50.4s\n",
      "2150:\tlearn: 0.0859801\ttest: 0.1436110\tbest: 0.1436110 (2150)\ttotal: 37.4s\tremaining: 49.5s\n",
      "2200:\tlearn: 0.0848744\ttest: 0.1432034\tbest: 0.1432034 (2200)\ttotal: 38.2s\tremaining: 48.6s\n",
      "2250:\tlearn: 0.0837547\ttest: 0.1427964\tbest: 0.1427964 (2250)\ttotal: 39.1s\tremaining: 47.8s\n",
      "2300:\tlearn: 0.0827040\ttest: 0.1424479\tbest: 0.1424479 (2300)\ttotal: 39.9s\tremaining: 46.8s\n",
      "2350:\tlearn: 0.0816709\ttest: 0.1420716\tbest: 0.1420716 (2350)\ttotal: 40.7s\tremaining: 45.9s\n",
      "2400:\tlearn: 0.0807143\ttest: 0.1417279\tbest: 0.1417279 (2400)\ttotal: 41.6s\tremaining: 45s\n",
      "2450:\tlearn: 0.0796968\ttest: 0.1413687\tbest: 0.1413687 (2450)\ttotal: 42.4s\tremaining: 44.1s\n",
      "2500:\tlearn: 0.0787272\ttest: 0.1410673\tbest: 0.1410673 (2500)\ttotal: 43.2s\tremaining: 43.2s\n",
      "2550:\tlearn: 0.0778198\ttest: 0.1407578\tbest: 0.1407578 (2550)\ttotal: 44s\tremaining: 42.3s\n",
      "2600:\tlearn: 0.0768633\ttest: 0.1404737\tbest: 0.1404737 (2600)\ttotal: 44.9s\tremaining: 41.4s\n",
      "2650:\tlearn: 0.0759582\ttest: 0.1401456\tbest: 0.1401456 (2650)\ttotal: 45.7s\tremaining: 40.5s\n",
      "2700:\tlearn: 0.0750893\ttest: 0.1398359\tbest: 0.1398359 (2700)\ttotal: 46.5s\tremaining: 39.6s\n",
      "2750:\tlearn: 0.0742454\ttest: 0.1395241\tbest: 0.1395241 (2750)\ttotal: 47.4s\tremaining: 38.7s\n",
      "2800:\tlearn: 0.0734290\ttest: 0.1392119\tbest: 0.1392119 (2800)\ttotal: 48.3s\tremaining: 37.9s\n",
      "2850:\tlearn: 0.0726367\ttest: 0.1389035\tbest: 0.1389035 (2850)\ttotal: 49.1s\tremaining: 37s\n",
      "2900:\tlearn: 0.0718409\ttest: 0.1386382\tbest: 0.1386382 (2900)\ttotal: 50s\tremaining: 36.2s\n",
      "2950:\tlearn: 0.0710779\ttest: 0.1384009\tbest: 0.1384009 (2950)\ttotal: 50.8s\tremaining: 35.3s\n",
      "3000:\tlearn: 0.0703764\ttest: 0.1381331\tbest: 0.1381331 (3000)\ttotal: 51.7s\tremaining: 34.4s\n",
      "3050:\tlearn: 0.0697001\ttest: 0.1378586\tbest: 0.1378586 (3050)\ttotal: 52.5s\tremaining: 33.5s\n",
      "3100:\tlearn: 0.0690389\ttest: 0.1376191\tbest: 0.1376191 (3100)\ttotal: 53.3s\tremaining: 32.7s\n",
      "3150:\tlearn: 0.0683933\ttest: 0.1373675\tbest: 0.1373675 (3150)\ttotal: 54.2s\tremaining: 31.8s\n",
      "3200:\tlearn: 0.0677137\ttest: 0.1371941\tbest: 0.1371941 (3200)\ttotal: 55s\tremaining: 30.9s\n",
      "3250:\tlearn: 0.0670616\ttest: 0.1370002\tbest: 0.1370002 (3250)\ttotal: 55.8s\tremaining: 30s\n",
      "3300:\tlearn: 0.0663564\ttest: 0.1368327\tbest: 0.1368327 (3300)\ttotal: 56.7s\tremaining: 29.2s\n",
      "3350:\tlearn: 0.0657347\ttest: 0.1366406\tbest: 0.1366406 (3350)\ttotal: 57.5s\tremaining: 28.3s\n",
      "3400:\tlearn: 0.0650351\ttest: 0.1364997\tbest: 0.1364997 (3400)\ttotal: 58.3s\tremaining: 27.4s\n",
      "3450:\tlearn: 0.0643905\ttest: 0.1363551\tbest: 0.1363551 (3450)\ttotal: 59.1s\tremaining: 26.5s\n",
      "3500:\tlearn: 0.0637317\ttest: 0.1362173\tbest: 0.1362173 (3500)\ttotal: 60s\tremaining: 25.7s\n",
      "3550:\tlearn: 0.0630941\ttest: 0.1360768\tbest: 0.1360764 (3549)\ttotal: 1m\tremaining: 24.8s\n",
      "3600:\tlearn: 0.0624800\ttest: 0.1359386\tbest: 0.1359382 (3599)\ttotal: 1m 1s\tremaining: 24s\n",
      "3650:\tlearn: 0.0618764\ttest: 0.1358294\tbest: 0.1358294 (3650)\ttotal: 1m 2s\tremaining: 23.1s\n",
      "3700:\tlearn: 0.0612235\ttest: 0.1357247\tbest: 0.1357247 (3700)\ttotal: 1m 3s\tremaining: 22.2s\n",
      "3750:\tlearn: 0.0606581\ttest: 0.1356096\tbest: 0.1356089 (3748)\ttotal: 1m 4s\tremaining: 21.4s\n",
      "3800:\tlearn: 0.0600989\ttest: 0.1355221\tbest: 0.1355221 (3800)\ttotal: 1m 4s\tremaining: 20.5s\n",
      "3850:\tlearn: 0.0595163\ttest: 0.1354412\tbest: 0.1354412 (3850)\ttotal: 1m 5s\tremaining: 19.6s\n",
      "3900:\tlearn: 0.0590075\ttest: 0.1353600\tbest: 0.1353600 (3900)\ttotal: 1m 6s\tremaining: 18.8s\n",
      "3950:\tlearn: 0.0584550\ttest: 0.1352557\tbest: 0.1352557 (3950)\ttotal: 1m 7s\tremaining: 17.9s\n",
      "4000:\tlearn: 0.0579746\ttest: 0.1351578\tbest: 0.1351578 (4000)\ttotal: 1m 8s\tremaining: 17.1s\n",
      "4050:\tlearn: 0.0574844\ttest: 0.1350754\tbest: 0.1350754 (4050)\ttotal: 1m 9s\tremaining: 16.2s\n",
      "4100:\tlearn: 0.0569319\ttest: 0.1350001\tbest: 0.1350001 (4100)\ttotal: 1m 9s\tremaining: 15.3s\n",
      "4150:\tlearn: 0.0563849\ttest: 0.1349353\tbest: 0.1349344 (4149)\ttotal: 1m 10s\tremaining: 14.5s\n",
      "4200:\tlearn: 0.0558958\ttest: 0.1348829\tbest: 0.1348829 (4200)\ttotal: 1m 11s\tremaining: 13.6s\n",
      "4250:\tlearn: 0.0554343\ttest: 0.1348437\tbest: 0.1348437 (4250)\ttotal: 1m 12s\tremaining: 12.8s\n",
      "4300:\tlearn: 0.0549258\ttest: 0.1347555\tbest: 0.1347546 (4299)\ttotal: 1m 13s\tremaining: 11.9s\n",
      "4350:\tlearn: 0.0544230\ttest: 0.1347028\tbest: 0.1346995 (4348)\ttotal: 1m 14s\tremaining: 11.1s\n",
      "4400:\tlearn: 0.0539665\ttest: 0.1346397\tbest: 0.1346397 (4400)\ttotal: 1m 15s\tremaining: 10.3s\n",
      "4450:\tlearn: 0.0535097\ttest: 0.1345770\tbest: 0.1345770 (4450)\ttotal: 1m 16s\tremaining: 9.48s\n",
      "4500:\tlearn: 0.0530697\ttest: 0.1345001\tbest: 0.1345001 (4500)\ttotal: 1m 17s\tremaining: 8.62s\n",
      "4550:\tlearn: 0.0526243\ttest: 0.1344599\tbest: 0.1344593 (4549)\ttotal: 1m 18s\tremaining: 7.75s\n",
      "4600:\tlearn: 0.0521838\ttest: 0.1344023\tbest: 0.1344023 (4600)\ttotal: 1m 19s\tremaining: 6.88s\n",
      "4650:\tlearn: 0.0517128\ttest: 0.1343426\tbest: 0.1343426 (4650)\ttotal: 1m 20s\tremaining: 6.02s\n",
      "4700:\tlearn: 0.0512422\ttest: 0.1343132\tbest: 0.1343132 (4700)\ttotal: 1m 20s\tremaining: 5.15s\n",
      "4750:\tlearn: 0.0508054\ttest: 0.1342582\tbest: 0.1342582 (4750)\ttotal: 1m 21s\tremaining: 4.29s\n",
      "4800:\tlearn: 0.0503951\ttest: 0.1342027\tbest: 0.1342027 (4800)\ttotal: 1m 22s\tremaining: 3.43s\n",
      "4850:\tlearn: 0.0499857\ttest: 0.1341499\tbest: 0.1341499 (4850)\ttotal: 1m 23s\tremaining: 2.56s\n",
      "4900:\tlearn: 0.0495327\ttest: 0.1341125\tbest: 0.1341125 (4900)\ttotal: 1m 24s\tremaining: 1.7s\n",
      "4950:\tlearn: 0.0490769\ttest: 0.1340728\tbest: 0.1340728 (4950)\ttotal: 1m 25s\tremaining: 843ms\n",
      "4999:\tlearn: 0.0486362\ttest: 0.1340470\tbest: 0.1340470 (4999)\ttotal: 1m 25s\tremaining: 0us\n",
      "\n",
      "bestTest = 0.1340469937\n",
      "bestIteration = 4999\n",
      "\n"
     ]
    },
    {
     "data": {
      "text/plain": "<catboost.core.CatBoostRegressor at 0x2662c46be80>"
     },
     "execution_count": 346,
     "metadata": {},
     "output_type": "execute_result"
    }
   ],
   "source": [
    "cat.fit(X_train, y_train, verbose=50, eval_set=(X_test, y_test), early_stopping_rounds=100,\n",
    "        use_best_model=True)"
   ],
   "metadata": {
    "collapsed": false
   }
  },
  {
   "cell_type": "code",
   "execution_count": 400,
   "outputs": [],
   "source": [
    "pred_test_XGB = np.expm1(xgb.predict(test_pred))"
   ],
   "metadata": {
    "collapsed": false
   }
  },
  {
   "cell_type": "code",
   "execution_count": 401,
   "outputs": [],
   "source": [
    "pred_test_LGBM = np.expm1(lgb.predict(test_pred.drop(['Id'],axis=1)))"
   ],
   "metadata": {
    "collapsed": false
   }
  },
  {
   "cell_type": "code",
   "execution_count": 402,
   "outputs": [],
   "source": [
    "pred_test_cat = np.expm1(cat.predict(test_pred))"
   ],
   "metadata": {
    "collapsed": false
   }
  },
  {
   "cell_type": "code",
   "execution_count": 403,
   "outputs": [
    {
     "data": {
      "text/plain": "array([117999.81 , 152770.11 , 181946.95 , ..., 138138.8  , 117852.484,\n       209081.56 ], dtype=float32)"
     },
     "execution_count": 403,
     "metadata": {},
     "output_type": "execute_result"
    }
   ],
   "source": [
    "pred_test_XGB"
   ],
   "metadata": {
    "collapsed": false
   }
  },
  {
   "cell_type": "code",
   "execution_count": 390,
   "outputs": [],
   "source": [
    "pd.DataFrame({\"Id\": test_pred.iloc[:,0].tolist(), \"SalePrice\":pred_test_XGB}).to_csv(\"submission1.csv\", index=False)\n"
   ],
   "metadata": {
    "collapsed": false
   }
  },
  {
   "cell_type": "code",
   "execution_count": 391,
   "outputs": [
    {
     "data": {
      "text/plain": "        Id   SalePrice\n0     1461  117999.810\n1     1462  152770.110\n2     1463  181946.950\n3     1464  192948.750\n4     1465  185295.780\n...    ...         ...\n1454  2915   84378.970\n1455  2916   85477.810\n1456  2917  138138.800\n1457  2918  117852.484\n1458  2919  209081.560\n\n[1459 rows x 2 columns]",
      "text/html": "<div>\n<style scoped>\n    .dataframe tbody tr th:only-of-type {\n        vertical-align: middle;\n    }\n\n    .dataframe tbody tr th {\n        vertical-align: top;\n    }\n\n    .dataframe thead th {\n        text-align: right;\n    }\n</style>\n<table border=\"1\" class=\"dataframe\">\n  <thead>\n    <tr style=\"text-align: right;\">\n      <th></th>\n      <th>Id</th>\n      <th>SalePrice</th>\n    </tr>\n  </thead>\n  <tbody>\n    <tr>\n      <th>0</th>\n      <td>1461</td>\n      <td>117999.810</td>\n    </tr>\n    <tr>\n      <th>1</th>\n      <td>1462</td>\n      <td>152770.110</td>\n    </tr>\n    <tr>\n      <th>2</th>\n      <td>1463</td>\n      <td>181946.950</td>\n    </tr>\n    <tr>\n      <th>3</th>\n      <td>1464</td>\n      <td>192948.750</td>\n    </tr>\n    <tr>\n      <th>4</th>\n      <td>1465</td>\n      <td>185295.780</td>\n    </tr>\n    <tr>\n      <th>...</th>\n      <td>...</td>\n      <td>...</td>\n    </tr>\n    <tr>\n      <th>1454</th>\n      <td>2915</td>\n      <td>84378.970</td>\n    </tr>\n    <tr>\n      <th>1455</th>\n      <td>2916</td>\n      <td>85477.810</td>\n    </tr>\n    <tr>\n      <th>1456</th>\n      <td>2917</td>\n      <td>138138.800</td>\n    </tr>\n    <tr>\n      <th>1457</th>\n      <td>2918</td>\n      <td>117852.484</td>\n    </tr>\n    <tr>\n      <th>1458</th>\n      <td>2919</td>\n      <td>209081.560</td>\n    </tr>\n  </tbody>\n</table>\n<p>1459 rows × 2 columns</p>\n</div>"
     },
     "execution_count": 391,
     "metadata": {},
     "output_type": "execute_result"
    }
   ],
   "source": [
    "pd.read_csv('submission1.csv')"
   ],
   "metadata": {
    "collapsed": false
   }
  },
  {
   "cell_type": "code",
   "execution_count": 411,
   "outputs": [],
   "source": [
    "sub = pd.read_csv('sample_submission.csv')"
   ],
   "metadata": {
    "collapsed": false
   }
  },
  {
   "cell_type": "code",
   "execution_count": 412,
   "outputs": [],
   "source": [
    "sub_lgb = pd.DataFrame()\n",
    "sub_lgb[\"SalePrice\"] = pred_test_LGBM\n",
    "\n",
    "sub_xgb = pd.DataFrame()\n",
    "sub_xgb[\"SalePrice\"] = pred_test_XGB\n",
    "\n",
    "sub_cat = pd.DataFrame()\n",
    "sub_cat[\"SalePrice\"] = pred_test_cat"
   ],
   "metadata": {
    "collapsed": false
   }
  },
  {
   "cell_type": "code",
   "execution_count": 413,
   "outputs": [],
   "source": [
    "sub[\"SalePrice\"] = (sub_xgb[\"SalePrice\"] * 0.5 + sub_lgb[\"SalePrice\"] * 0.25 + sub_cat[\"SalePrice\"] * 0.25)"
   ],
   "metadata": {
    "collapsed": false
   }
  },
  {
   "cell_type": "code",
   "execution_count": 409,
   "outputs": [
    {
     "data": {
      "text/plain": "        Id      SalePrice\n0     1461  123656.022333\n1     1462  156443.853219\n2     1463  183886.397025\n3     1464  193472.604919\n4     1465  187069.297212\n...    ...            ...\n1454  2915   85609.122414\n1455  2916   87905.379693\n1456  2917  143316.219940\n1457  2918  119816.811543\n1458  2919  214849.339958\n\n[1459 rows x 2 columns]",
      "text/html": "<div>\n<style scoped>\n    .dataframe tbody tr th:only-of-type {\n        vertical-align: middle;\n    }\n\n    .dataframe tbody tr th {\n        vertical-align: top;\n    }\n\n    .dataframe thead th {\n        text-align: right;\n    }\n</style>\n<table border=\"1\" class=\"dataframe\">\n  <thead>\n    <tr style=\"text-align: right;\">\n      <th></th>\n      <th>Id</th>\n      <th>SalePrice</th>\n    </tr>\n  </thead>\n  <tbody>\n    <tr>\n      <th>0</th>\n      <td>1461</td>\n      <td>123656.022333</td>\n    </tr>\n    <tr>\n      <th>1</th>\n      <td>1462</td>\n      <td>156443.853219</td>\n    </tr>\n    <tr>\n      <th>2</th>\n      <td>1463</td>\n      <td>183886.397025</td>\n    </tr>\n    <tr>\n      <th>3</th>\n      <td>1464</td>\n      <td>193472.604919</td>\n    </tr>\n    <tr>\n      <th>4</th>\n      <td>1465</td>\n      <td>187069.297212</td>\n    </tr>\n    <tr>\n      <th>...</th>\n      <td>...</td>\n      <td>...</td>\n    </tr>\n    <tr>\n      <th>1454</th>\n      <td>2915</td>\n      <td>85609.122414</td>\n    </tr>\n    <tr>\n      <th>1455</th>\n      <td>2916</td>\n      <td>87905.379693</td>\n    </tr>\n    <tr>\n      <th>1456</th>\n      <td>2917</td>\n      <td>143316.219940</td>\n    </tr>\n    <tr>\n      <th>1457</th>\n      <td>2918</td>\n      <td>119816.811543</td>\n    </tr>\n    <tr>\n      <th>1458</th>\n      <td>2919</td>\n      <td>214849.339958</td>\n    </tr>\n  </tbody>\n</table>\n<p>1459 rows × 2 columns</p>\n</div>"
     },
     "execution_count": 409,
     "metadata": {},
     "output_type": "execute_result"
    }
   ],
   "source": [
    "sub"
   ],
   "metadata": {
    "collapsed": false
   }
  },
  {
   "cell_type": "code",
   "execution_count": 414,
   "outputs": [
    {
     "name": "stdout",
     "output_type": "stream",
     "text": [
      "     Id      SalePrice\n",
      "0  1461  122334.804773\n",
      "1  1462  155642.868431\n",
      "2  1463  183539.588490\n",
      "3  1464  193486.891010\n",
      "4  1465  186766.359933\n"
     ]
    }
   ],
   "source": [
    "print(sub.head())\n",
    "sub.to_csv('sub_final.csv', index=False)"
   ],
   "metadata": {
    "collapsed": false
   }
  },
  {
   "cell_type": "code",
   "execution_count": 205,
   "outputs": [],
   "source": [
    "sub2 = pd.read_csv(\"sub1_xgb.csv\")"
   ],
   "metadata": {
    "collapsed": false
   }
  },
  {
   "cell_type": "code",
   "execution_count": 210,
   "outputs": [
    {
     "data": {
      "text/plain": "        Id  SalePrice\n0     1461  191089.69\n1     1462  179308.98\n2     1463  183799.61\n3     1464  190811.80\n4     1465  198641.05\n...    ...        ...\n1454  2915  230064.40\n1455  2916  172825.97\n1456  2917  191297.38\n1457  2918  171318.05\n1458  2919  184162.47\n\n[1459 rows x 2 columns]",
      "text/html": "<div>\n<style scoped>\n    .dataframe tbody tr th:only-of-type {\n        vertical-align: middle;\n    }\n\n    .dataframe tbody tr th {\n        vertical-align: top;\n    }\n\n    .dataframe thead th {\n        text-align: right;\n    }\n</style>\n<table border=\"1\" class=\"dataframe\">\n  <thead>\n    <tr style=\"text-align: right;\">\n      <th></th>\n      <th>Id</th>\n      <th>SalePrice</th>\n    </tr>\n  </thead>\n  <tbody>\n    <tr>\n      <th>0</th>\n      <td>1461</td>\n      <td>191089.69</td>\n    </tr>\n    <tr>\n      <th>1</th>\n      <td>1462</td>\n      <td>179308.98</td>\n    </tr>\n    <tr>\n      <th>2</th>\n      <td>1463</td>\n      <td>183799.61</td>\n    </tr>\n    <tr>\n      <th>3</th>\n      <td>1464</td>\n      <td>190811.80</td>\n    </tr>\n    <tr>\n      <th>4</th>\n      <td>1465</td>\n      <td>198641.05</td>\n    </tr>\n    <tr>\n      <th>...</th>\n      <td>...</td>\n      <td>...</td>\n    </tr>\n    <tr>\n      <th>1454</th>\n      <td>2915</td>\n      <td>230064.40</td>\n    </tr>\n    <tr>\n      <th>1455</th>\n      <td>2916</td>\n      <td>172825.97</td>\n    </tr>\n    <tr>\n      <th>1456</th>\n      <td>2917</td>\n      <td>191297.38</td>\n    </tr>\n    <tr>\n      <th>1457</th>\n      <td>2918</td>\n      <td>171318.05</td>\n    </tr>\n    <tr>\n      <th>1458</th>\n      <td>2919</td>\n      <td>184162.47</td>\n    </tr>\n  </tbody>\n</table>\n<p>1459 rows × 2 columns</p>\n</div>"
     },
     "execution_count": 210,
     "metadata": {},
     "output_type": "execute_result"
    }
   ],
   "source": [
    "sub2"
   ],
   "metadata": {
    "collapsed": false
   }
  },
  {
   "cell_type": "code",
   "execution_count": null,
   "outputs": [],
   "source": [],
   "metadata": {
    "collapsed": false
   }
  }
 ],
 "metadata": {
  "kernelspec": {
   "display_name": "Python 3",
   "language": "python",
   "name": "python3"
  },
  "language_info": {
   "codemirror_mode": {
    "name": "ipython",
    "version": 2
   },
   "file_extension": ".py",
   "mimetype": "text/x-python",
   "name": "python",
   "nbconvert_exporter": "python",
   "pygments_lexer": "ipython2",
   "version": "2.7.6"
  }
 },
 "nbformat": 4,
 "nbformat_minor": 0
}
